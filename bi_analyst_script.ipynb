{
  "nbformat": 4,
  "nbformat_minor": 0,
  "metadata": {
    "colab": {
      "provenance": []
    },
    "kernelspec": {
      "name": "python3",
      "display_name": "Python 3"
    },
    "language_info": {
      "name": "python"
    }
  },
  "cells": [
    {
      "cell_type": "code",
      "execution_count": null,
      "metadata": {
        "id": "FXjZcYx7MdcN"
      },
      "outputs": [],
      "source": [
        "from pyspark.sql import SparkSession\n",
        "from pyspark.sql.functions import col, expr, when, lit, to_date, datediff\n",
        "import pyspark.sql.functions as F\n",
        "from pyspark.sql.window import Window\n",
        "\n"
      ]
    },
    {
      "cell_type": "code",
      "source": [
        "import pandas as pd\n",
        "import numpy as np"
      ],
      "metadata": {
        "id": "1NZbqSuLNrLc"
      },
      "execution_count": null,
      "outputs": []
    },
    {
      "cell_type": "code",
      "source": [
        "# Initialize Spark session\n",
        "spark = SparkSession.builder \\\n",
        "    .appName(\"Spark SQL_Bi\") \\\n",
        "    .getOrCreate()"
      ],
      "metadata": {
        "id": "IMJcMjCJM-f0"
      },
      "execution_count": null,
      "outputs": []
    },
    {
      "cell_type": "code",
      "source": [
        "# Read the Disbursement Excel file using pandas\n",
        "disbursement_df = pd.read_excel(\"/content/BI_Analyst_Case_Study_Data.xlsx\", sheet_name= \"Disbursements\")"
      ],
      "metadata": {
        "id": "W0N8Vr4WNQCe"
      },
      "execution_count": null,
      "outputs": []
    },
    {
      "cell_type": "code",
      "source": [
        "# Read the Repayment Excel file using pandas\n",
        "repayment_df = pd.read_excel(\"/content/BI_Analyst_Case_Study_Data.xlsx\", sheet_name= \"Repayments\")"
      ],
      "metadata": {
        "id": "6EqVaA1WRKOe"
      },
      "execution_count": null,
      "outputs": []
    },
    {
      "cell_type": "code",
      "source": [
        "# convert pandas DataFrame to Spark DataFrame on disbursement data\n",
        "dis_spark_df = spark.createDataFrame(disbursement_df)"
      ],
      "metadata": {
        "id": "D6dSXTG1Oreb"
      },
      "execution_count": null,
      "outputs": []
    },
    {
      "cell_type": "code",
      "source": [
        "# convert pandas DataFrame to Spark DataFrame on repayment data\n",
        "rep_spark_df = spark.createDataFrame(repayment_df)"
      ],
      "metadata": {
        "id": "CHpu--9_RzI3"
      },
      "execution_count": null,
      "outputs": []
    },
    {
      "cell_type": "code",
      "source": [
        "# Registering the DataFrame as a temporary SQL Table\n",
        "dis_spark_df.createOrReplaceTempView(\"disbursements\")"
      ],
      "metadata": {
        "id": "QOtpK-kZO26M"
      },
      "execution_count": null,
      "outputs": []
    },
    {
      "cell_type": "code",
      "source": [
        "# Registering the DataFrame as temporary SQL Table\n",
        "rep_spark_df.createOrReplaceTempView(\"repayments\")"
      ],
      "metadata": {
        "id": "F3pkQhfkTEwP"
      },
      "execution_count": null,
      "outputs": []
    },
    {
      "cell_type": "code",
      "source": [
        "from pyspark.sql.functions import date_format\n",
        "# Formatting dates from disbursements and repayments to one format\n",
        "dis_spark_df = dis_spark_df.withColumn(\"disb_date\", date_format(col(\"disb_date\"), \"yyyy-MM-dd\"))\n",
        "rep_spark_df = rep_spark_df.withColumn(\"date_time\", date_format(col(\"date_time\"), \"yyyy-MM-dd\"))"
      ],
      "metadata": {
        "id": "rM54jQnl-fFl"
      },
      "execution_count": null,
      "outputs": []
    },
    {
      "cell_type": "code",
      "source": [
        "spark.sql(\"SELECT * FROM disbursements LIMIT 5\").show()"
      ],
      "metadata": {
        "colab": {
          "base_uri": "https://localhost:8080/"
        },
        "id": "w5XCJF1hTQU2",
        "outputId": "cdc0e384-451a-4e9f-f332-c1f26e6c9c26"
      },
      "execution_count": null,
      "outputs": [
        {
          "output_type": "stream",
          "name": "stdout",
          "text": [
            "+--------------------+-------------------+------+--------------------+-----------+--------+------------------+\n",
            "|         customer_id|          disb_date|tenure|         account_num|loan_amount|loan_fee|disbursement_month|\n",
            "+--------------------+-------------------+------+--------------------+-----------+--------+------------------+\n",
            "|af046ce17d65fc256...|2024-01-01 00:00:00|    30|8Z6UEMB3MLTZ3C58Q...|        900|   135.0|          Jan-2024|\n",
            "|9e6959bfdf55f7260...|2024-01-01 00:00:00|    14|80VUWDVJG3H93EP1X...|        140|    16.8|          Jan-2024|\n",
            "|6f1aa549482fd527f...|2024-01-01 00:00:00|    30|8ESB6FAUBUDGJ4IW6...|       3500|   525.0|          Jan-2024|\n",
            "|2a8dd19946bad9a45...|2024-01-01 00:00:00|    14|K0FQ983D12WYIINWD...|         70|     8.4|          Jan-2024|\n",
            "|92ae786a7b7851930...|2024-01-01 00:00:00|     7|360XKMXQ9N8KHL2V0...|        850|    85.0|          Jan-2024|\n",
            "+--------------------+-------------------+------+--------------------+-----------+--------+------------------+\n",
            "\n"
          ]
        }
      ]
    },
    {
      "cell_type": "code",
      "source": [
        "spark.sql(\"SELECT * FROM repayments LIMIT 5\").show()"
      ],
      "metadata": {
        "colab": {
          "base_uri": "https://localhost:8080/"
        },
        "id": "K88YuPj7TmuC",
        "outputId": "241417a0-7117-493d-f820-fb293bd3cb07"
      },
      "execution_count": null,
      "outputs": [
        {
          "output_type": "stream",
          "name": "stdout",
          "text": [
            "+-------------------+--------------------+------+---------+---------------+--------------+\n",
            "|          date_time|         customer_id|amount|rep_month|repayment_month|repayment_type|\n",
            "+-------------------+--------------------+------+---------+---------------+--------------+\n",
            "|2024-01-01 00:00:00|f6bbe9d609181778a...|266.66|   202401|       Jan-2024|        Manual|\n",
            "|2024-01-01 00:00:00|7501da53759a05f3f...|180.18|   202401|       Jan-2024|     Automatic|\n",
            "|2024-01-01 00:00:00|42e1482d23e0b41ab...|  8.33|   202401|       Jan-2024|     Automatic|\n",
            "|2024-01-01 00:00:00|0e7efb36b0c32a8d7...|  2.92|   202401|       Jan-2024|     Automatic|\n",
            "|2024-01-01 00:00:00|84a64ca68e373614f...| 91.64|   202401|       Jan-2024|        Manual|\n",
            "+-------------------+--------------------+------+---------+---------------+--------------+\n",
            "\n"
          ]
        }
      ]
    },
    {
      "cell_type": "markdown",
      "source": [
        "## Exploring Disbursements table - Understanding the structure and content"
      ],
      "metadata": {
        "id": "SH7QJfJGUj6o"
      }
    },
    {
      "cell_type": "code",
      "source": [
        "spark.sql(\"SELECT COUNT(customer_id) FROM disbursements\").show()"
      ],
      "metadata": {
        "colab": {
          "base_uri": "https://localhost:8080/"
        },
        "id": "NtZry3DOVK3J",
        "outputId": "c9cee296-e251-4629-eb16-c2bd5c17f1c2"
      },
      "execution_count": null,
      "outputs": [
        {
          "output_type": "stream",
          "name": "stdout",
          "text": [
            "+------------------+\n",
            "|count(customer_id)|\n",
            "+------------------+\n",
            "|             26365|\n",
            "+------------------+\n",
            "\n"
          ]
        }
      ]
    },
    {
      "cell_type": "code",
      "source": [
        "# Checking for unique accounts\n",
        "spark.sql(\"SELECT COUNT(DISTINCT customer_id) FROM disbursements\").show()"
      ],
      "metadata": {
        "colab": {
          "base_uri": "https://localhost:8080/"
        },
        "id": "ve_Pi2j-Xac7",
        "outputId": "8e1f6ef6-0bc7-4206-b9c4-2500909ca66e"
      },
      "execution_count": null,
      "outputs": [
        {
          "output_type": "stream",
          "name": "stdout",
          "text": [
            "+---------------------------+\n",
            "|count(DISTINCT customer_id)|\n",
            "+---------------------------+\n",
            "|                       2996|\n",
            "+---------------------------+\n",
            "\n"
          ]
        }
      ]
    },
    {
      "cell_type": "code",
      "source": [
        "# Checking the earliest and latest disbursement\n",
        "spark.sql(\"SELECT MIN(disb_date), MAX(disb_date) FROM disbursements\").show()"
      ],
      "metadata": {
        "colab": {
          "base_uri": "https://localhost:8080/"
        },
        "id": "B5gC-GHlY1cb",
        "outputId": "03db9dbe-7cc3-4106-8a75-c861eeb875cd"
      },
      "execution_count": null,
      "outputs": [
        {
          "output_type": "stream",
          "name": "stdout",
          "text": [
            "+-------------------+-------------------+\n",
            "|     min(disb_date)|     max(disb_date)|\n",
            "+-------------------+-------------------+\n",
            "|2024-01-01 00:00:00|2024-08-11 00:00:00|\n",
            "+-------------------+-------------------+\n",
            "\n"
          ]
        }
      ]
    },
    {
      "cell_type": "code",
      "source": [
        "spark.sql(\"SELECT AVG(loan_amount), MAX(loan_amount), MIN(loan_amount) FROM disbursements\").show()"
      ],
      "metadata": {
        "colab": {
          "base_uri": "https://localhost:8080/"
        },
        "id": "0ovxaQhJZo0N",
        "outputId": "23412252-80ee-4b20-bbbc-c45eb6a64898"
      },
      "execution_count": null,
      "outputs": [
        {
          "output_type": "stream",
          "name": "stdout",
          "text": [
            "+------------------+----------------+----------------+\n",
            "|  avg(loan_amount)|max(loan_amount)|min(loan_amount)|\n",
            "+------------------+----------------+----------------+\n",
            "|1004.5755736772236|            3500|              70|\n",
            "+------------------+----------------+----------------+\n",
            "\n"
          ]
        }
      ]
    },
    {
      "cell_type": "code",
      "source": [
        "spark.sql(\"SELECT AVG(loan_fee), MAX(loan_fee), MIN(loan_fee) FROM disbursements\").show()"
      ],
      "metadata": {
        "colab": {
          "base_uri": "https://localhost:8080/"
        },
        "id": "JG7defDjcDcT",
        "outputId": "f5c20bf4-e00f-48fd-aa4a-6880c157a5c3"
      },
      "execution_count": null,
      "outputs": [
        {
          "output_type": "stream",
          "name": "stdout",
          "text": [
            "+------------------+-------------+-------------+\n",
            "|     avg(loan_fee)|max(loan_fee)|min(loan_fee)|\n",
            "+------------------+-------------+-------------+\n",
            "|130.19424464251773|        525.0|          7.0|\n",
            "+------------------+-------------+-------------+\n",
            "\n"
          ]
        }
      ]
    },
    {
      "cell_type": "code",
      "source": [
        "# Removing Dupicates\n",
        "# spark.sql(\"SELECT COUNT(DISTINCT customer_id, disb_date, account_num, loan_amount, loan_fee) FROM disbursements\").show()"
      ],
      "metadata": {
        "id": "wRiSPgjXz7Ai"
      },
      "execution_count": null,
      "outputs": []
    },
    {
      "cell_type": "markdown",
      "source": [
        "## Exploring Repayments Table"
      ],
      "metadata": {
        "id": "qO6sjFgoco3j"
      }
    },
    {
      "cell_type": "code",
      "source": [
        "spark.sql(\"SELECT COUNT(customer_id) FROM repayments\").show()"
      ],
      "metadata": {
        "colab": {
          "base_uri": "https://localhost:8080/"
        },
        "id": "pG2bT-Ufcspp",
        "outputId": "779b51a8-7be3-47ca-a04b-d79cd549e7b2"
      },
      "execution_count": null,
      "outputs": [
        {
          "output_type": "stream",
          "name": "stdout",
          "text": [
            "+------------------+\n",
            "|count(customer_id)|\n",
            "+------------------+\n",
            "|             65210|\n",
            "+------------------+\n",
            "\n"
          ]
        }
      ]
    },
    {
      "cell_type": "code",
      "source": [
        "spark.sql(\"SELECT COUNT(DISTINCT customer_id) FROM repayments\").show()"
      ],
      "metadata": {
        "colab": {
          "base_uri": "https://localhost:8080/"
        },
        "id": "Xc5pvHusdRT7",
        "outputId": "d60f880e-286e-4dd2-b845-a66652075c53"
      },
      "execution_count": null,
      "outputs": [
        {
          "output_type": "stream",
          "name": "stdout",
          "text": [
            "+---------------------------+\n",
            "|count(DISTINCT customer_id)|\n",
            "+---------------------------+\n",
            "|                       2995|\n",
            "+---------------------------+\n",
            "\n"
          ]
        }
      ]
    },
    {
      "cell_type": "code",
      "source": [
        "# Checking the earliest repayment date\n",
        "spark.sql(\"SELECT MIN(date_time), MAX(date_time) FROM repayments\").show()"
      ],
      "metadata": {
        "colab": {
          "base_uri": "https://localhost:8080/"
        },
        "id": "t_izxAbbdaWv",
        "outputId": "17f67f96-a75a-448a-e4ea-276be3f0ac7a"
      },
      "execution_count": null,
      "outputs": [
        {
          "output_type": "stream",
          "name": "stdout",
          "text": [
            "+-------------------+-------------------+\n",
            "|     min(date_time)|     max(date_time)|\n",
            "+-------------------+-------------------+\n",
            "|2024-01-01 00:00:00|2024-08-26 00:00:00|\n",
            "+-------------------+-------------------+\n",
            "\n"
          ]
        }
      ]
    },
    {
      "cell_type": "code",
      "source": [
        "spark.sql(\"SELECT AVG(amount), MAX(amount), MIN(amount) FROM repayments\").show()"
      ],
      "metadata": {
        "colab": {
          "base_uri": "https://localhost:8080/"
        },
        "id": "Z0cJO9aAg1Ti",
        "outputId": "a726be8c-6727-4893-bf28-e0970fee03ae"
      },
      "execution_count": null,
      "outputs": [
        {
          "output_type": "stream",
          "name": "stdout",
          "text": [
            "+------------------+-----------+-----------+\n",
            "|       avg(amount)|max(amount)|min(amount)|\n",
            "+------------------+-----------+-----------+\n",
            "|460.53170479988097|     4025.0|       0.01|\n",
            "+------------------+-----------+-----------+\n",
            "\n"
          ]
        }
      ]
    },
    {
      "cell_type": "code",
      "source": [
        "spark.sql(\"SELECT DISTINCT rep_month FROM repayments SORT BY rep_month\").show()\n",
        "# This spans 8 months from January to August, 2024"
      ],
      "metadata": {
        "colab": {
          "base_uri": "https://localhost:8080/"
        },
        "id": "5XGKJQOghXkA",
        "outputId": "a3c74683-21ce-459b-eeac-3891ee58a9a7"
      },
      "execution_count": null,
      "outputs": [
        {
          "output_type": "stream",
          "name": "stdout",
          "text": [
            "+---------+\n",
            "|rep_month|\n",
            "+---------+\n",
            "|   202401|\n",
            "|   202402|\n",
            "|   202403|\n",
            "|   202404|\n",
            "|   202405|\n",
            "|   202406|\n",
            "|   202407|\n",
            "|   202408|\n",
            "+---------+\n",
            "\n"
          ]
        }
      ]
    },
    {
      "cell_type": "code",
      "source": [
        "spark.sql(\"SELECT * FROM repayments LIMIT 5\").show()"
      ],
      "metadata": {
        "colab": {
          "base_uri": "https://localhost:8080/"
        },
        "id": "jq1h0pgIrZb7",
        "outputId": "5198e7ee-82c3-4433-bfb8-92f37083bccb"
      },
      "execution_count": null,
      "outputs": [
        {
          "output_type": "stream",
          "name": "stdout",
          "text": [
            "+-------------------+--------------------+------+---------+---------------+--------------+\n",
            "|          date_time|         customer_id|amount|rep_month|repayment_month|repayment_type|\n",
            "+-------------------+--------------------+------+---------+---------------+--------------+\n",
            "|2024-01-01 00:00:00|f6bbe9d609181778a...|266.66|   202401|       Jan-2024|        Manual|\n",
            "|2024-01-01 00:00:00|7501da53759a05f3f...|180.18|   202401|       Jan-2024|     Automatic|\n",
            "|2024-01-01 00:00:00|42e1482d23e0b41ab...|  8.33|   202401|       Jan-2024|     Automatic|\n",
            "|2024-01-01 00:00:00|0e7efb36b0c32a8d7...|  2.92|   202401|       Jan-2024|     Automatic|\n",
            "|2024-01-01 00:00:00|84a64ca68e373614f...| 91.64|   202401|       Jan-2024|        Manual|\n",
            "+-------------------+--------------------+------+---------+---------------+--------------+\n",
            "\n"
          ]
        }
      ]
    },
    {
      "cell_type": "code",
      "source": [
        "# Removing duplicates\n",
        "# spark.sql(\"SELECT COUNT(DISTINCT customer_id, date_time, amount, rep_month, repayment_type) FROM repayments\").show()"
      ],
      "metadata": {
        "id": "kAyjq8nPzmNg"
      },
      "execution_count": null,
      "outputs": []
    },
    {
      "cell_type": "markdown",
      "source": [
        "### Checking for missing values from Disbursements"
      ],
      "metadata": {
        "id": "3Z2E3IwQjRNn"
      }
    },
    {
      "cell_type": "code",
      "source": [
        "# There are no missing values from the disbursement dataset\n",
        "\n",
        "spark.sql(\"\"\"SELECT 'customer_id' AS column_name, COUNT(*) AS null_count FROM disbursements WHERE customer_id IS NULL\n",
        "UNION ALL\n",
        "SELECT 'disb_date', COUNT(*) FROM disbursements WHERE disb_date IS NULL\n",
        "UNION ALL\n",
        "SELECT 'account_num', COUNT(*) FROM disbursements WHERE account_num IS NULL\n",
        "UNION ALL\n",
        "SELECT 'loan_amount', COUNT(*) FROM disbursements WHERE loan_amount IS NULL\n",
        "UNION ALL\n",
        "SELECT 'loan_fee', COUNT(*) FROM disbursements WHERE loan_fee IS NULL\"\"\").show()\n"
      ],
      "metadata": {
        "colab": {
          "base_uri": "https://localhost:8080/"
        },
        "id": "9rZYUz_fjTdx",
        "outputId": "8308324a-9535-419b-ef50-85844963c04c"
      },
      "execution_count": null,
      "outputs": [
        {
          "output_type": "stream",
          "name": "stdout",
          "text": [
            "+-----------+----------+\n",
            "|column_name|null_count|\n",
            "+-----------+----------+\n",
            "|customer_id|         0|\n",
            "|  disb_date|         0|\n",
            "|account_num|         0|\n",
            "|loan_amount|         0|\n",
            "|   loan_fee|         0|\n",
            "+-----------+----------+\n",
            "\n"
          ]
        }
      ]
    },
    {
      "cell_type": "markdown",
      "source": [
        "### Checking for missing values from the repayment dataset"
      ],
      "metadata": {
        "id": "f9iFWtEZm5uL"
      }
    },
    {
      "cell_type": "code",
      "source": [
        "spark.sql(\"\"\"\n",
        "    SELECT 'customer_id' AS column_name, COUNT(*) AS null_count FROM repayments WHERE customer_id IS NULL\n",
        "    UNION ALL\n",
        "    SELECT 'date_time', COUNT(*) FROM repayments WHERE date_time IS NULL\n",
        "    UNION ALL\n",
        "    SELECT 'amount', COUNT(*) FROM repayments WHERE amount IS NULL\n",
        "    UNION ALL\n",
        "    SELECT 'rep_month', COUNT(*) FROM repayments WHERE rep_month IS NULL\n",
        "    UNION ALL\n",
        "    SELECT 'repayment_type', COUNT(*) FROM repayments WHERE repayment_type IS NULL\n",
        "\"\"\").show()\n",
        "\n",
        "# There are no null or missing values from the repayment dataset"
      ],
      "metadata": {
        "colab": {
          "base_uri": "https://localhost:8080/"
        },
        "id": "hVfGG8Esm9t7",
        "outputId": "e01f6bee-49da-4b8a-d31b-549fddb21258"
      },
      "execution_count": null,
      "outputs": [
        {
          "output_type": "stream",
          "name": "stdout",
          "text": [
            "+--------------+----------+\n",
            "|   column_name|null_count|\n",
            "+--------------+----------+\n",
            "|   customer_id|         0|\n",
            "|     date_time|         0|\n",
            "|        amount|         0|\n",
            "|     rep_month|         0|\n",
            "|repayment_type|         0|\n",
            "+--------------+----------+\n",
            "\n"
          ]
        }
      ]
    },
    {
      "cell_type": "code",
      "source": [
        "# Some of the key features of the lending product"
      ],
      "metadata": {
        "id": "EEcUrK51pJB3"
      },
      "execution_count": null,
      "outputs": []
    },
    {
      "cell_type": "markdown",
      "source": [
        "Key Questions:\n",
        "\n",
        "What is the time range of the data?\n",
        "\n",
        "What are the typical loan amounts and fees?\n",
        "\n",
        "What types of repayments are there?\n",
        "\n",
        "Are there any missing values?\n",
        "\n",
        "How many unique customers and accounts are there?"
      ],
      "metadata": {
        "id": "RMlX_02SpEqs"
      }
    },
    {
      "cell_type": "code",
      "source": [
        "# sorting dataframe by repayment date ascending order\n"
      ],
      "metadata": {
        "id": "a0u0Tp6s4IKj"
      },
      "execution_count": null,
      "outputs": []
    },
    {
      "cell_type": "markdown",
      "source": [
        "### Merging the data and Identifying defaults"
      ],
      "metadata": {
        "id": "tk9rhLbWquPl"
      }
    },
    {
      "source": [
        "merged_df = spark.sql(\"\"\"\n",
        "WITH loan_info AS (\n",
        "    SELECT\n",
        "        d.customer_id,\n",
        "        d.disb_date,\n",
        "        d.tenure,\n",
        "        d.loan_amount,\n",
        "        d.loan_fee,\n",
        "        date_add(d.disb_date, cast(d.tenure as int)) AS due_date  -- Cast tenure to INT\n",
        "    FROM disbursements d\n",
        "),\n",
        "repayment_info AS (\n",
        "    SELECT\n",
        "        r.customer_id,\n",
        "        DATE_FORMAT(MAX(r.date_time), 'yyyy-MM-dd') AS repayment_date,\n",
        "        SUM(r.amount) AS total_repaid\n",
        "    FROM repayments r\n",
        "    GROUP BY r.customer_id\n",
        "),\n",
        "loan_status AS (\n",
        "    SELECT\n",
        "        l.customer_id,\n",
        "        l.disb_date,\n",
        "        l.due_date,\n",
        "        r.repayment_date,\n",
        "        r.total_repaid,\n",
        "        l.loan_amount,\n",
        "        l.loan_fee,\n",
        "        CASE\n",
        "            WHEN r.repayment_date IS NULL OR r.repayment_date > l.due_date THEN 'Defaulted'\n",
        "            ELSE 'Repaid on Time'\n",
        "        END AS repayment_status\n",
        "    FROM loan_info l\n",
        "    LEFT JOIN repayment_info r ON l.customer_id = r.customer_id\n",
        ")\n",
        "SELECT * FROM loan_status\n",
        "ORDER BY repayment_date ASC  -- Sorting by repayment_date in ascending order\n",
        "LIMIT 20\n",
        "\"\"\").show()\n"
      ],
      "cell_type": "code",
      "metadata": {
        "colab": {
          "base_uri": "https://localhost:8080/"
        },
        "id": "ywshurf0atQD",
        "outputId": "27458196-4889-4aaf-83e4-4199a5e051a7"
      },
      "execution_count": null,
      "outputs": [
        {
          "output_type": "stream",
          "name": "stdout",
          "text": [
            "+--------------------+-------------------+----------+--------------+------------------+-----------+--------+----------------+\n",
            "|         customer_id|          disb_date|  due_date|repayment_date|      total_repaid|loan_amount|loan_fee|repayment_status|\n",
            "+--------------------+-------------------+----------+--------------+------------------+-----------+--------+----------------+\n",
            "|373a0279abf696d43...|2024-01-14 00:00:00|2024-01-28|          NULL|              NULL|        150|    18.0|       Defaulted|\n",
            "|561a158588df57451...|2024-01-06 00:00:00|2024-01-20|    2024-01-14|             324.8|        290|    34.8|  Repaid on Time|\n",
            "|e629fdccdf577b8ba...|2024-08-02 00:00:00|2024-09-01|    2024-01-14|            2760.0|       2600|   390.0|  Repaid on Time|\n",
            "|8bb494df97747a979...|2024-01-03 00:00:00|2024-01-17|    2024-01-17|214.99999999999997|        270|    32.4|  Repaid on Time|\n",
            "|04deddb26f4e1b554...|2024-01-12 00:00:00|2024-01-19|    2024-01-19|             340.0|        210|    21.0|  Repaid on Time|\n",
            "|08dc8ea603dc9569e...|2024-01-05 00:00:00|2024-01-19|    2024-01-19|              5.64|        190|    22.8|  Repaid on Time|\n",
            "|4813cc3dea064f308...|2024-01-03 00:00:00|2024-02-02|    2024-01-27|1496.5600000000002|       1200|   180.0|  Repaid on Time|\n",
            "|4813cc3dea064f308...|2024-01-11 00:00:00|2024-01-25|    2024-01-27|1496.5600000000002|       1260|   151.2|       Defaulted|\n",
            "|cd44ce61d1a34f433...|2024-01-17 00:00:00|2024-01-31|    2024-01-31|             246.4|        220|    26.4|  Repaid on Time|\n",
            "|0fa081aef229b17bf...|2024-01-25 00:00:00|2024-02-01|    2024-02-01|              2.98|         90|     9.0|  Repaid on Time|\n",
            "|6349b82a521ea653b...|2024-01-03 00:00:00|2024-01-17|    2024-02-02|            260.91|         70|     8.4|       Defaulted|\n",
            "|6349b82a521ea653b...|2024-01-11 00:00:00|2024-01-25|    2024-02-02|            260.91|         70|     8.4|       Defaulted|\n",
            "|6349b82a521ea653b...|2024-01-19 00:00:00|2024-02-02|    2024-02-02|            260.91|         70|     8.4|  Repaid on Time|\n",
            "|0e9c1fcb34197a0ad...|2024-01-17 00:00:00|2024-01-31|    2024-02-03|492.79999999999995|        440|    52.8|       Defaulted|\n",
            "|1b4bcd7acc3b95fea...|2024-01-11 00:00:00|2024-01-25|    2024-02-06|            904.06|        780|    93.6|       Defaulted|\n",
            "|d4b32fa138b0176f0...|2024-01-31 00:00:00|2024-02-07|    2024-02-07|              2.14|         70|     7.0|  Repaid on Time|\n",
            "|55023e0cc9c4eb3a0...|2024-01-19 00:00:00|2024-02-02|    2024-02-09|             21.33|         70|     8.4|       Defaulted|\n",
            "|1f6b6fea4d36ae3ae...|2024-01-02 00:00:00|2024-01-16|    2024-02-10|            116.84|        100|    12.0|       Defaulted|\n",
            "|1f6b6fea4d36ae3ae...|2024-01-27 00:00:00|2024-02-10|    2024-02-10|            116.84|        100|    12.0|  Repaid on Time|\n",
            "|54f06b40501b87199...|2024-01-12 00:00:00|2024-02-11|    2024-02-11|           1429.92|       1240|   186.0|  Repaid on Time|\n",
            "+--------------------+-------------------+----------+--------------+------------------+-----------+--------+----------------+\n",
            "\n"
          ]
        }
      ]
    },
    {
      "cell_type": "code",
      "source": [
        "merged_df.to_excel(\"merged_data.xlsx\", index=False)"
      ],
      "metadata": {
        "id": "FH5x-mUwAMND"
      },
      "execution_count": 108,
      "outputs": []
    },
    {
      "cell_type": "code",
      "source": [
        "# spark.sql(\"SELECT * FROM loan_status\").show()\n",
        "# Getting data from dataframe\n",
        "loan_status_df = spark.sql(\"SELECT * FROM loan_status\")\n",
        "# Converting to pandas df\n",
        "loan_status_df = loan_status_df.toPandas()\n",
        "loan_status_df.to_excel(\"loan_status.xlsx\", index=False)\n"
      ],
      "metadata": {
        "id": "n70IvaMiX99Y"
      },
      "execution_count": 107,
      "outputs": []
    },
    {
      "cell_type": "markdown",
      "source": [
        "### Repayments By Month"
      ],
      "metadata": {
        "id": "w1KvVA4gg_0D"
      }
    },
    {
      "cell_type": "markdown",
      "source": [],
      "metadata": {
        "id": "LnyKO_EVg9k-"
      }
    },
    {
      "cell_type": "code",
      "source": [
        "monthly_repaid_df =spark.sql(\"\"\"\n",
        "SELECT repayment_month, SUM(amount) AS total_repaid\n",
        "FROM repayments\n",
        "GROUP BY repayment_month\n",
        "ORDER BY repayment_month\n",
        "\"\"\").show()"
      ],
      "metadata": {
        "colab": {
          "base_uri": "https://localhost:8080/"
        },
        "id": "jGp3UxkqcyxY",
        "outputId": "94e5d80a-337e-47f0-b07c-2ae37442f426"
      },
      "execution_count": null,
      "outputs": [
        {
          "output_type": "stream",
          "name": "stdout",
          "text": [
            "+---------------+------------------+\n",
            "|repayment_month|      total_repaid|\n",
            "+---------------+------------------+\n",
            "|       Apr-2024|4250145.3099999875|\n",
            "|       Aug-2024| 2730247.249999998|\n",
            "|       Feb-2024|3600989.9699999853|\n",
            "|       Jan-2024| 3422364.489999984|\n",
            "|       Jul-2024|3416517.6499999883|\n",
            "|       Jun-2024|3995342.2999999854|\n",
            "|       Mar-2024| 4152027.519999991|\n",
            "|       May-2024|  4463637.97999999|\n",
            "+---------------+------------------+\n",
            "\n"
          ]
        }
      ]
    },
    {
      "cell_type": "markdown",
      "source": [
        "### Disbursment by Date"
      ],
      "metadata": {
        "id": "er4ZHoeIhHMF"
      }
    },
    {
      "cell_type": "code",
      "source": [
        "monthly_disbursement_df =spark.sql(\"\"\"\n",
        "SELECT disbursement_month, SUM(loan_amount) AS total_disbursement\n",
        "FROM disbursements\n",
        "GROUP BY disbursement_month\n",
        "ORDER BY disbursement_month\n",
        "\"\"\").show()"
      ],
      "metadata": {
        "colab": {
          "base_uri": "https://localhost:8080/"
        },
        "id": "m5rf0vMshFro",
        "outputId": "5ec41389-f499-438f-b916-d84259d2380c"
      },
      "execution_count": null,
      "outputs": [
        {
          "output_type": "stream",
          "name": "stdout",
          "text": [
            "+------------------+------------------+\n",
            "|disbursement_month|total_disbursement|\n",
            "+------------------+------------------+\n",
            "|          Apr-2024|           3919811|\n",
            "|          Aug-2024|           1194268|\n",
            "|          Feb-2024|           3392645|\n",
            "|          Jan-2024|           3172375|\n",
            "|          Jul-2024|           3380538|\n",
            "|          Jun-2024|           3499828|\n",
            "|          Mar-2024|           3922131|\n",
            "|          May-2024|           4004039|\n",
            "+------------------+------------------+\n",
            "\n"
          ]
        }
      ]
    },
    {
      "cell_type": "markdown",
      "source": [
        "### Profit/Loss Calculation\n",
        "We define profit = Monthly Repayment - Monthly Disbursement"
      ],
      "metadata": {
        "id": "siqnhZZ_lMta"
      }
    },
    {
      "cell_type": "code",
      "source": [
        "# Monthly Repayment - Monthly Disbursement\n",
        "# Storing the DataFrames in the variables.\n",
        "\n",
        "monthly_repaid_df = spark.sql(\"\"\"\n",
        "SELECT repayment_month, SUM(amount) AS total_repaid\n",
        "FROM repayments\n",
        "GROUP BY repayment_month\n",
        "ORDER BY repayment_month\n",
        "\"\"\")\n",
        "\n",
        "monthly_disbursement_df = spark.sql(\"\"\"\n",
        "SELECT disbursement_month, SUM(loan_amount) AS total_disbursement\n",
        "FROM disbursements\n",
        "GROUP BY disbursement_month\n",
        "ORDER BY disbursement_month\n",
        "\"\"\")\n",
        "\n",
        "\n",
        "# Converting the Spark DataFrames to Pandas DataFrames.\n",
        "monthly_repaid_pd_df = monthly_repaid_df.toPandas()\n",
        "monthly_disbursement_pd_df = monthly_disbursement_df.toPandas()\n",
        "\n",
        "# Renaming the 'disbursement_month' column to 'repayment_month' for merging.\n",
        "monthly_disbursement_pd_df = monthly_disbursement_pd_df.rename(columns={\"disbursement_month\": \"repayment_month\"})\n",
        "\n",
        "# Merge the two Pandas DataFrames on 'repayment_month'.\n",
        "merged_df = pd.merge(monthly_repaid_pd_df, monthly_disbursement_pd_df, on='repayment_month', how='outer')\n",
        "\n",
        "# Fill NaN values with 0 for calculation.\n",
        "merged_df = merged_df.fillna(0)\n",
        "\n",
        "# Calculate the profit/loss.\n",
        "merged_df['Profit'] = merged_df['total_repaid'] - merged_df['total_disbursement']\n",
        "\n",
        "# Convert the Pandas DataFrame back to a Spark DataFrame.\n",
        "profit_df = spark.createDataFrame(merged_df)\n",
        "\n",
        "profit_df.show()"
      ],
      "metadata": {
        "colab": {
          "base_uri": "https://localhost:8080/"
        },
        "id": "NaW3vOHolQc3",
        "outputId": "43bc6427-b9c9-413b-a62f-eea79d7de3e5"
      },
      "execution_count": null,
      "outputs": [
        {
          "output_type": "stream",
          "name": "stdout",
          "text": [
            "+---------------+------------------+------------------+------------------+\n",
            "|repayment_month|      total_repaid|total_disbursement|            Profit|\n",
            "+---------------+------------------+------------------+------------------+\n",
            "|       Apr-2024|4250145.3099999875|           3919811| 330334.3099999875|\n",
            "|       Aug-2024| 2730247.249999998|           1194268|1535979.2499999981|\n",
            "|       Feb-2024|3600989.9699999853|           3392645| 208344.9699999853|\n",
            "|       Jan-2024| 3422364.489999984|           3172375|249989.48999998393|\n",
            "|       Jul-2024|3416517.6499999883|           3380538|35979.649999988265|\n",
            "|       Jun-2024|3995342.2999999854|           3499828| 495514.2999999854|\n",
            "|       Mar-2024| 4152027.519999991|           3922131|229896.51999999117|\n",
            "|       May-2024|  4463637.97999999|           4004039| 459598.9799999902|\n",
            "+---------------+------------------+------------------+------------------+\n",
            "\n"
          ]
        }
      ]
    },
    {
      "cell_type": "code",
      "source": [
        "import matplotlib.pyplot as plt\n",
        "import seaborn as sns\n",
        "import plotly.express as px\n",
        "import plotly.graph_objects as go\n",
        "import plotly.io as pio\n",
        "pio.renderers.default = \"colab\"\n",
        "import warnings\n",
        "warnings.filterwarnings(\"ignore\")"
      ],
      "metadata": {
        "id": "AW_YboiUBvdh"
      },
      "execution_count": 89,
      "outputs": []
    },
    {
      "cell_type": "code",
      "source": [
        "# Bar plot on total repaid and total_disbursement\n",
        "fig = px.bar(profit_df, x='repayment_month', y=['total_repaid', 'total_disbursement'], barmode='group', title='Monthly Repayment and Disbursement')\n",
        "fig.show()"
      ],
      "metadata": {
        "colab": {
          "base_uri": "https://localhost:8080/",
          "height": 542
        },
        "id": "quPxRyHe5YBJ",
        "outputId": "72cf83f8-af3e-4d4f-da77-1638960a0234"
      },
      "execution_count": 90,
      "outputs": [
        {
          "output_type": "display_data",
          "data": {
            "text/html": [
              "<html>\n",
              "<head><meta charset=\"utf-8\" /></head>\n",
              "<body>\n",
              "    <div>            <script src=\"https://cdnjs.cloudflare.com/ajax/libs/mathjax/2.7.5/MathJax.js?config=TeX-AMS-MML_SVG\"></script><script type=\"text/javascript\">if (window.MathJax && window.MathJax.Hub && window.MathJax.Hub.Config) {window.MathJax.Hub.Config({SVG: {font: \"STIX-Web\"}});}</script>                <script type=\"text/javascript\">window.PlotlyConfig = {MathJaxConfig: 'local'};</script>\n",
              "        <script charset=\"utf-8\" src=\"https://cdn.plot.ly/plotly-2.35.2.min.js\"></script>                <div id=\"f3389320-96dd-420c-aaa5-b0100cdbd772\" class=\"plotly-graph-div\" style=\"height:525px; width:100%;\"></div>            <script type=\"text/javascript\">                                    window.PLOTLYENV=window.PLOTLYENV || {};                                    if (document.getElementById(\"f3389320-96dd-420c-aaa5-b0100cdbd772\")) {                    Plotly.newPlot(                        \"f3389320-96dd-420c-aaa5-b0100cdbd772\",                        [{\"alignmentgroup\":\"True\",\"hovertemplate\":\"variable=total_repaid\\u003cbr\\u003erepayment_month=%{x}\\u003cbr\\u003evalue=%{y}\\u003cextra\\u003e\\u003c\\u002fextra\\u003e\",\"legendgroup\":\"total_repaid\",\"marker\":{\"color\":\"#636efa\",\"pattern\":{\"shape\":\"\"}},\"name\":\"total_repaid\",\"offsetgroup\":\"total_repaid\",\"orientation\":\"v\",\"showlegend\":true,\"textposition\":\"auto\",\"x\":[\"2024-04-01T00:00:00\",\"2024-08-01T00:00:00\",\"2024-02-01T00:00:00\",\"2024-01-01T00:00:00\",\"2024-07-01T00:00:00\",\"2024-06-01T00:00:00\",\"2024-03-01T00:00:00\",\"2024-05-01T00:00:00\"],\"xaxis\":\"x\",\"y\":[4250145.3099999875,2730247.249999998,3600989.9699999853,3422364.489999984,3416517.6499999883,3995342.2999999854,4152027.519999991,4463637.97999999],\"yaxis\":\"y\",\"type\":\"bar\"},{\"alignmentgroup\":\"True\",\"hovertemplate\":\"variable=total_disbursement\\u003cbr\\u003erepayment_month=%{x}\\u003cbr\\u003evalue=%{y}\\u003cextra\\u003e\\u003c\\u002fextra\\u003e\",\"legendgroup\":\"total_disbursement\",\"marker\":{\"color\":\"#EF553B\",\"pattern\":{\"shape\":\"\"}},\"name\":\"total_disbursement\",\"offsetgroup\":\"total_disbursement\",\"orientation\":\"v\",\"showlegend\":true,\"textposition\":\"auto\",\"x\":[\"2024-04-01T00:00:00\",\"2024-08-01T00:00:00\",\"2024-02-01T00:00:00\",\"2024-01-01T00:00:00\",\"2024-07-01T00:00:00\",\"2024-06-01T00:00:00\",\"2024-03-01T00:00:00\",\"2024-05-01T00:00:00\"],\"xaxis\":\"x\",\"y\":[3919811.0,1194268.0,3392645.0,3172375.0,3380538.0,3499828.0,3922131.0,4004039.0],\"yaxis\":\"y\",\"type\":\"bar\"}],                        {\"template\":{\"data\":{\"histogram2dcontour\":[{\"type\":\"histogram2dcontour\",\"colorbar\":{\"outlinewidth\":0,\"ticks\":\"\"},\"colorscale\":[[0.0,\"#0d0887\"],[0.1111111111111111,\"#46039f\"],[0.2222222222222222,\"#7201a8\"],[0.3333333333333333,\"#9c179e\"],[0.4444444444444444,\"#bd3786\"],[0.5555555555555556,\"#d8576b\"],[0.6666666666666666,\"#ed7953\"],[0.7777777777777778,\"#fb9f3a\"],[0.8888888888888888,\"#fdca26\"],[1.0,\"#f0f921\"]]}],\"choropleth\":[{\"type\":\"choropleth\",\"colorbar\":{\"outlinewidth\":0,\"ticks\":\"\"}}],\"histogram2d\":[{\"type\":\"histogram2d\",\"colorbar\":{\"outlinewidth\":0,\"ticks\":\"\"},\"colorscale\":[[0.0,\"#0d0887\"],[0.1111111111111111,\"#46039f\"],[0.2222222222222222,\"#7201a8\"],[0.3333333333333333,\"#9c179e\"],[0.4444444444444444,\"#bd3786\"],[0.5555555555555556,\"#d8576b\"],[0.6666666666666666,\"#ed7953\"],[0.7777777777777778,\"#fb9f3a\"],[0.8888888888888888,\"#fdca26\"],[1.0,\"#f0f921\"]]}],\"heatmap\":[{\"type\":\"heatmap\",\"colorbar\":{\"outlinewidth\":0,\"ticks\":\"\"},\"colorscale\":[[0.0,\"#0d0887\"],[0.1111111111111111,\"#46039f\"],[0.2222222222222222,\"#7201a8\"],[0.3333333333333333,\"#9c179e\"],[0.4444444444444444,\"#bd3786\"],[0.5555555555555556,\"#d8576b\"],[0.6666666666666666,\"#ed7953\"],[0.7777777777777778,\"#fb9f3a\"],[0.8888888888888888,\"#fdca26\"],[1.0,\"#f0f921\"]]}],\"heatmapgl\":[{\"type\":\"heatmapgl\",\"colorbar\":{\"outlinewidth\":0,\"ticks\":\"\"},\"colorscale\":[[0.0,\"#0d0887\"],[0.1111111111111111,\"#46039f\"],[0.2222222222222222,\"#7201a8\"],[0.3333333333333333,\"#9c179e\"],[0.4444444444444444,\"#bd3786\"],[0.5555555555555556,\"#d8576b\"],[0.6666666666666666,\"#ed7953\"],[0.7777777777777778,\"#fb9f3a\"],[0.8888888888888888,\"#fdca26\"],[1.0,\"#f0f921\"]]}],\"contourcarpet\":[{\"type\":\"contourcarpet\",\"colorbar\":{\"outlinewidth\":0,\"ticks\":\"\"}}],\"contour\":[{\"type\":\"contour\",\"colorbar\":{\"outlinewidth\":0,\"ticks\":\"\"},\"colorscale\":[[0.0,\"#0d0887\"],[0.1111111111111111,\"#46039f\"],[0.2222222222222222,\"#7201a8\"],[0.3333333333333333,\"#9c179e\"],[0.4444444444444444,\"#bd3786\"],[0.5555555555555556,\"#d8576b\"],[0.6666666666666666,\"#ed7953\"],[0.7777777777777778,\"#fb9f3a\"],[0.8888888888888888,\"#fdca26\"],[1.0,\"#f0f921\"]]}],\"surface\":[{\"type\":\"surface\",\"colorbar\":{\"outlinewidth\":0,\"ticks\":\"\"},\"colorscale\":[[0.0,\"#0d0887\"],[0.1111111111111111,\"#46039f\"],[0.2222222222222222,\"#7201a8\"],[0.3333333333333333,\"#9c179e\"],[0.4444444444444444,\"#bd3786\"],[0.5555555555555556,\"#d8576b\"],[0.6666666666666666,\"#ed7953\"],[0.7777777777777778,\"#fb9f3a\"],[0.8888888888888888,\"#fdca26\"],[1.0,\"#f0f921\"]]}],\"mesh3d\":[{\"type\":\"mesh3d\",\"colorbar\":{\"outlinewidth\":0,\"ticks\":\"\"}}],\"scatter\":[{\"fillpattern\":{\"fillmode\":\"overlay\",\"size\":10,\"solidity\":0.2},\"type\":\"scatter\"}],\"parcoords\":[{\"type\":\"parcoords\",\"line\":{\"colorbar\":{\"outlinewidth\":0,\"ticks\":\"\"}}}],\"scatterpolargl\":[{\"type\":\"scatterpolargl\",\"marker\":{\"colorbar\":{\"outlinewidth\":0,\"ticks\":\"\"}}}],\"bar\":[{\"error_x\":{\"color\":\"#2a3f5f\"},\"error_y\":{\"color\":\"#2a3f5f\"},\"marker\":{\"line\":{\"color\":\"#E5ECF6\",\"width\":0.5},\"pattern\":{\"fillmode\":\"overlay\",\"size\":10,\"solidity\":0.2}},\"type\":\"bar\"}],\"scattergeo\":[{\"type\":\"scattergeo\",\"marker\":{\"colorbar\":{\"outlinewidth\":0,\"ticks\":\"\"}}}],\"scatterpolar\":[{\"type\":\"scatterpolar\",\"marker\":{\"colorbar\":{\"outlinewidth\":0,\"ticks\":\"\"}}}],\"histogram\":[{\"marker\":{\"pattern\":{\"fillmode\":\"overlay\",\"size\":10,\"solidity\":0.2}},\"type\":\"histogram\"}],\"scattergl\":[{\"type\":\"scattergl\",\"marker\":{\"colorbar\":{\"outlinewidth\":0,\"ticks\":\"\"}}}],\"scatter3d\":[{\"type\":\"scatter3d\",\"line\":{\"colorbar\":{\"outlinewidth\":0,\"ticks\":\"\"}},\"marker\":{\"colorbar\":{\"outlinewidth\":0,\"ticks\":\"\"}}}],\"scattermapbox\":[{\"type\":\"scattermapbox\",\"marker\":{\"colorbar\":{\"outlinewidth\":0,\"ticks\":\"\"}}}],\"scatterternary\":[{\"type\":\"scatterternary\",\"marker\":{\"colorbar\":{\"outlinewidth\":0,\"ticks\":\"\"}}}],\"scattercarpet\":[{\"type\":\"scattercarpet\",\"marker\":{\"colorbar\":{\"outlinewidth\":0,\"ticks\":\"\"}}}],\"carpet\":[{\"aaxis\":{\"endlinecolor\":\"#2a3f5f\",\"gridcolor\":\"white\",\"linecolor\":\"white\",\"minorgridcolor\":\"white\",\"startlinecolor\":\"#2a3f5f\"},\"baxis\":{\"endlinecolor\":\"#2a3f5f\",\"gridcolor\":\"white\",\"linecolor\":\"white\",\"minorgridcolor\":\"white\",\"startlinecolor\":\"#2a3f5f\"},\"type\":\"carpet\"}],\"table\":[{\"cells\":{\"fill\":{\"color\":\"#EBF0F8\"},\"line\":{\"color\":\"white\"}},\"header\":{\"fill\":{\"color\":\"#C8D4E3\"},\"line\":{\"color\":\"white\"}},\"type\":\"table\"}],\"barpolar\":[{\"marker\":{\"line\":{\"color\":\"#E5ECF6\",\"width\":0.5},\"pattern\":{\"fillmode\":\"overlay\",\"size\":10,\"solidity\":0.2}},\"type\":\"barpolar\"}],\"pie\":[{\"automargin\":true,\"type\":\"pie\"}]},\"layout\":{\"autotypenumbers\":\"strict\",\"colorway\":[\"#636efa\",\"#EF553B\",\"#00cc96\",\"#ab63fa\",\"#FFA15A\",\"#19d3f3\",\"#FF6692\",\"#B6E880\",\"#FF97FF\",\"#FECB52\"],\"font\":{\"color\":\"#2a3f5f\"},\"hovermode\":\"closest\",\"hoverlabel\":{\"align\":\"left\"},\"paper_bgcolor\":\"white\",\"plot_bgcolor\":\"#E5ECF6\",\"polar\":{\"bgcolor\":\"#E5ECF6\",\"angularaxis\":{\"gridcolor\":\"white\",\"linecolor\":\"white\",\"ticks\":\"\"},\"radialaxis\":{\"gridcolor\":\"white\",\"linecolor\":\"white\",\"ticks\":\"\"}},\"ternary\":{\"bgcolor\":\"#E5ECF6\",\"aaxis\":{\"gridcolor\":\"white\",\"linecolor\":\"white\",\"ticks\":\"\"},\"baxis\":{\"gridcolor\":\"white\",\"linecolor\":\"white\",\"ticks\":\"\"},\"caxis\":{\"gridcolor\":\"white\",\"linecolor\":\"white\",\"ticks\":\"\"}},\"coloraxis\":{\"colorbar\":{\"outlinewidth\":0,\"ticks\":\"\"}},\"colorscale\":{\"sequential\":[[0.0,\"#0d0887\"],[0.1111111111111111,\"#46039f\"],[0.2222222222222222,\"#7201a8\"],[0.3333333333333333,\"#9c179e\"],[0.4444444444444444,\"#bd3786\"],[0.5555555555555556,\"#d8576b\"],[0.6666666666666666,\"#ed7953\"],[0.7777777777777778,\"#fb9f3a\"],[0.8888888888888888,\"#fdca26\"],[1.0,\"#f0f921\"]],\"sequentialminus\":[[0.0,\"#0d0887\"],[0.1111111111111111,\"#46039f\"],[0.2222222222222222,\"#7201a8\"],[0.3333333333333333,\"#9c179e\"],[0.4444444444444444,\"#bd3786\"],[0.5555555555555556,\"#d8576b\"],[0.6666666666666666,\"#ed7953\"],[0.7777777777777778,\"#fb9f3a\"],[0.8888888888888888,\"#fdca26\"],[1.0,\"#f0f921\"]],\"diverging\":[[0,\"#8e0152\"],[0.1,\"#c51b7d\"],[0.2,\"#de77ae\"],[0.3,\"#f1b6da\"],[0.4,\"#fde0ef\"],[0.5,\"#f7f7f7\"],[0.6,\"#e6f5d0\"],[0.7,\"#b8e186\"],[0.8,\"#7fbc41\"],[0.9,\"#4d9221\"],[1,\"#276419\"]]},\"xaxis\":{\"gridcolor\":\"white\",\"linecolor\":\"white\",\"ticks\":\"\",\"title\":{\"standoff\":15},\"zerolinecolor\":\"white\",\"automargin\":true,\"zerolinewidth\":2},\"yaxis\":{\"gridcolor\":\"white\",\"linecolor\":\"white\",\"ticks\":\"\",\"title\":{\"standoff\":15},\"zerolinecolor\":\"white\",\"automargin\":true,\"zerolinewidth\":2},\"scene\":{\"xaxis\":{\"backgroundcolor\":\"#E5ECF6\",\"gridcolor\":\"white\",\"linecolor\":\"white\",\"showbackground\":true,\"ticks\":\"\",\"zerolinecolor\":\"white\",\"gridwidth\":2},\"yaxis\":{\"backgroundcolor\":\"#E5ECF6\",\"gridcolor\":\"white\",\"linecolor\":\"white\",\"showbackground\":true,\"ticks\":\"\",\"zerolinecolor\":\"white\",\"gridwidth\":2},\"zaxis\":{\"backgroundcolor\":\"#E5ECF6\",\"gridcolor\":\"white\",\"linecolor\":\"white\",\"showbackground\":true,\"ticks\":\"\",\"zerolinecolor\":\"white\",\"gridwidth\":2}},\"shapedefaults\":{\"line\":{\"color\":\"#2a3f5f\"}},\"annotationdefaults\":{\"arrowcolor\":\"#2a3f5f\",\"arrowhead\":0,\"arrowwidth\":1},\"geo\":{\"bgcolor\":\"white\",\"landcolor\":\"#E5ECF6\",\"subunitcolor\":\"white\",\"showland\":true,\"showlakes\":true,\"lakecolor\":\"white\"},\"title\":{\"x\":0.05},\"mapbox\":{\"style\":\"light\"}}},\"xaxis\":{\"anchor\":\"y\",\"domain\":[0.0,1.0],\"title\":{\"text\":\"repayment_month\"}},\"yaxis\":{\"anchor\":\"x\",\"domain\":[0.0,1.0],\"title\":{\"text\":\"value\"}},\"legend\":{\"title\":{\"text\":\"variable\"},\"tracegroupgap\":0},\"title\":{\"text\":\"Monthly Repayment and Disbursement\"},\"barmode\":\"group\"},                        {\"responsive\": true}                    ).then(function(){\n",
              "                            \n",
              "var gd = document.getElementById('f3389320-96dd-420c-aaa5-b0100cdbd772');\n",
              "var x = new MutationObserver(function (mutations, observer) {{\n",
              "        var display = window.getComputedStyle(gd).display;\n",
              "        if (!display || display === 'none') {{\n",
              "            console.log([gd, 'removed!']);\n",
              "            Plotly.purge(gd);\n",
              "            observer.disconnect();\n",
              "        }}\n",
              "}});\n",
              "\n",
              "// Listen for the removal of the full notebook cells\n",
              "var notebookContainer = gd.closest('#notebook-container');\n",
              "if (notebookContainer) {{\n",
              "    x.observe(notebookContainer, {childList: true});\n",
              "}}\n",
              "\n",
              "// Listen for the clearing of the current output cell\n",
              "var outputEl = gd.closest('.output');\n",
              "if (outputEl) {{\n",
              "    x.observe(outputEl, {childList: true});\n",
              "}}\n",
              "\n",
              "                        })                };                            </script>        </div>\n",
              "</body>\n",
              "</html>"
            ]
          },
          "metadata": {}
        }
      ]
    },
    {
      "cell_type": "markdown",
      "source": [
        "- Repayments (blue) are generally higher than disbursements (red)\n",
        "- This suggests that loan collections exceed new loans issued, which is good for liquidity.\n",
        "--------------------------------------------------------------------------------\n",
        "- March to May 2024 saw peak repayment and disbursement levels\n",
        "- This could indicate higher loan activity during this period.\n",
        "--------------------------------------------------------------------------------\n",
        "- A noticeable decline in August 2024: This could indicate a decrease in lending activity or a seasonal effect.\n",
        "- Repayments and disbursements were nearly equal in July 2024: Stable loan cycle in that month\n",
        "--------------------------------------------------------------------------------\n",
        "## Potential Insights:\n",
        "- If this trend continues, the institution may need to increase loan disbursements to sustain its portfolio.\n",
        "- The sharp drop in August could be due to policy changes, economic conditions, or seasonal lending trends."
      ],
      "metadata": {
        "id": "n-ejdJVm_0At"
      }
    },
    {
      "cell_type": "code",
      "source": [
        "# Trendline Chart on Profit\n",
        "import plotly.express as px\n",
        "\n",
        "# Data aggregated by month\n",
        "profit_df = profit_df.groupby('repayment_month', as_index=False).sum()\n",
        "\n",
        "# Line plot with markers and a thicker line\n",
        "fig = px.line(profit_df, x='repayment_month', y='Profit', title='Monthly Profit Trend',\n",
        "              markers=True)  # Add markers\n",
        "\n",
        "fig.update_traces(line=dict(width=3))  # line thickness\n",
        "fig.show()\n",
        "\n"
      ],
      "metadata": {
        "id": "NDK9vhA-A74v",
        "colab": {
          "base_uri": "https://localhost:8080/",
          "height": 542
        },
        "outputId": "f7977c2b-4b48-415c-9d62-c710014e5b6a"
      },
      "execution_count": 94,
      "outputs": [
        {
          "output_type": "display_data",
          "data": {
            "text/html": [
              "<html>\n",
              "<head><meta charset=\"utf-8\" /></head>\n",
              "<body>\n",
              "    <div>            <script src=\"https://cdnjs.cloudflare.com/ajax/libs/mathjax/2.7.5/MathJax.js?config=TeX-AMS-MML_SVG\"></script><script type=\"text/javascript\">if (window.MathJax && window.MathJax.Hub && window.MathJax.Hub.Config) {window.MathJax.Hub.Config({SVG: {font: \"STIX-Web\"}});}</script>                <script type=\"text/javascript\">window.PlotlyConfig = {MathJaxConfig: 'local'};</script>\n",
              "        <script charset=\"utf-8\" src=\"https://cdn.plot.ly/plotly-2.35.2.min.js\"></script>                <div id=\"80086b87-d5d2-467b-9eea-19162998d2be\" class=\"plotly-graph-div\" style=\"height:525px; width:100%;\"></div>            <script type=\"text/javascript\">                                    window.PLOTLYENV=window.PLOTLYENV || {};                                    if (document.getElementById(\"80086b87-d5d2-467b-9eea-19162998d2be\")) {                    Plotly.newPlot(                        \"80086b87-d5d2-467b-9eea-19162998d2be\",                        [{\"hovertemplate\":\"repayment_month=%{x}\\u003cbr\\u003eProfit=%{y}\\u003cextra\\u003e\\u003c\\u002fextra\\u003e\",\"legendgroup\":\"\",\"line\":{\"color\":\"#636efa\",\"dash\":\"solid\",\"width\":3},\"marker\":{\"symbol\":\"circle\"},\"mode\":\"lines+markers\",\"name\":\"\",\"orientation\":\"v\",\"showlegend\":false,\"x\":[\"2024-01-01T00:00:00\",\"2024-02-01T00:00:00\",\"2024-03-01T00:00:00\",\"2024-04-01T00:00:00\",\"2024-05-01T00:00:00\",\"2024-06-01T00:00:00\",\"2024-07-01T00:00:00\",\"2024-08-01T00:00:00\"],\"xaxis\":\"x\",\"y\":[249989.48999998393,208344.9699999853,229896.51999999117,330334.3099999875,459598.9799999902,495514.2999999854,35979.649999988265,1535979.2499999981],\"yaxis\":\"y\",\"type\":\"scatter\"}],                        {\"template\":{\"data\":{\"histogram2dcontour\":[{\"type\":\"histogram2dcontour\",\"colorbar\":{\"outlinewidth\":0,\"ticks\":\"\"},\"colorscale\":[[0.0,\"#0d0887\"],[0.1111111111111111,\"#46039f\"],[0.2222222222222222,\"#7201a8\"],[0.3333333333333333,\"#9c179e\"],[0.4444444444444444,\"#bd3786\"],[0.5555555555555556,\"#d8576b\"],[0.6666666666666666,\"#ed7953\"],[0.7777777777777778,\"#fb9f3a\"],[0.8888888888888888,\"#fdca26\"],[1.0,\"#f0f921\"]]}],\"choropleth\":[{\"type\":\"choropleth\",\"colorbar\":{\"outlinewidth\":0,\"ticks\":\"\"}}],\"histogram2d\":[{\"type\":\"histogram2d\",\"colorbar\":{\"outlinewidth\":0,\"ticks\":\"\"},\"colorscale\":[[0.0,\"#0d0887\"],[0.1111111111111111,\"#46039f\"],[0.2222222222222222,\"#7201a8\"],[0.3333333333333333,\"#9c179e\"],[0.4444444444444444,\"#bd3786\"],[0.5555555555555556,\"#d8576b\"],[0.6666666666666666,\"#ed7953\"],[0.7777777777777778,\"#fb9f3a\"],[0.8888888888888888,\"#fdca26\"],[1.0,\"#f0f921\"]]}],\"heatmap\":[{\"type\":\"heatmap\",\"colorbar\":{\"outlinewidth\":0,\"ticks\":\"\"},\"colorscale\":[[0.0,\"#0d0887\"],[0.1111111111111111,\"#46039f\"],[0.2222222222222222,\"#7201a8\"],[0.3333333333333333,\"#9c179e\"],[0.4444444444444444,\"#bd3786\"],[0.5555555555555556,\"#d8576b\"],[0.6666666666666666,\"#ed7953\"],[0.7777777777777778,\"#fb9f3a\"],[0.8888888888888888,\"#fdca26\"],[1.0,\"#f0f921\"]]}],\"heatmapgl\":[{\"type\":\"heatmapgl\",\"colorbar\":{\"outlinewidth\":0,\"ticks\":\"\"},\"colorscale\":[[0.0,\"#0d0887\"],[0.1111111111111111,\"#46039f\"],[0.2222222222222222,\"#7201a8\"],[0.3333333333333333,\"#9c179e\"],[0.4444444444444444,\"#bd3786\"],[0.5555555555555556,\"#d8576b\"],[0.6666666666666666,\"#ed7953\"],[0.7777777777777778,\"#fb9f3a\"],[0.8888888888888888,\"#fdca26\"],[1.0,\"#f0f921\"]]}],\"contourcarpet\":[{\"type\":\"contourcarpet\",\"colorbar\":{\"outlinewidth\":0,\"ticks\":\"\"}}],\"contour\":[{\"type\":\"contour\",\"colorbar\":{\"outlinewidth\":0,\"ticks\":\"\"},\"colorscale\":[[0.0,\"#0d0887\"],[0.1111111111111111,\"#46039f\"],[0.2222222222222222,\"#7201a8\"],[0.3333333333333333,\"#9c179e\"],[0.4444444444444444,\"#bd3786\"],[0.5555555555555556,\"#d8576b\"],[0.6666666666666666,\"#ed7953\"],[0.7777777777777778,\"#fb9f3a\"],[0.8888888888888888,\"#fdca26\"],[1.0,\"#f0f921\"]]}],\"surface\":[{\"type\":\"surface\",\"colorbar\":{\"outlinewidth\":0,\"ticks\":\"\"},\"colorscale\":[[0.0,\"#0d0887\"],[0.1111111111111111,\"#46039f\"],[0.2222222222222222,\"#7201a8\"],[0.3333333333333333,\"#9c179e\"],[0.4444444444444444,\"#bd3786\"],[0.5555555555555556,\"#d8576b\"],[0.6666666666666666,\"#ed7953\"],[0.7777777777777778,\"#fb9f3a\"],[0.8888888888888888,\"#fdca26\"],[1.0,\"#f0f921\"]]}],\"mesh3d\":[{\"type\":\"mesh3d\",\"colorbar\":{\"outlinewidth\":0,\"ticks\":\"\"}}],\"scatter\":[{\"fillpattern\":{\"fillmode\":\"overlay\",\"size\":10,\"solidity\":0.2},\"type\":\"scatter\"}],\"parcoords\":[{\"type\":\"parcoords\",\"line\":{\"colorbar\":{\"outlinewidth\":0,\"ticks\":\"\"}}}],\"scatterpolargl\":[{\"type\":\"scatterpolargl\",\"marker\":{\"colorbar\":{\"outlinewidth\":0,\"ticks\":\"\"}}}],\"bar\":[{\"error_x\":{\"color\":\"#2a3f5f\"},\"error_y\":{\"color\":\"#2a3f5f\"},\"marker\":{\"line\":{\"color\":\"#E5ECF6\",\"width\":0.5},\"pattern\":{\"fillmode\":\"overlay\",\"size\":10,\"solidity\":0.2}},\"type\":\"bar\"}],\"scattergeo\":[{\"type\":\"scattergeo\",\"marker\":{\"colorbar\":{\"outlinewidth\":0,\"ticks\":\"\"}}}],\"scatterpolar\":[{\"type\":\"scatterpolar\",\"marker\":{\"colorbar\":{\"outlinewidth\":0,\"ticks\":\"\"}}}],\"histogram\":[{\"marker\":{\"pattern\":{\"fillmode\":\"overlay\",\"size\":10,\"solidity\":0.2}},\"type\":\"histogram\"}],\"scattergl\":[{\"type\":\"scattergl\",\"marker\":{\"colorbar\":{\"outlinewidth\":0,\"ticks\":\"\"}}}],\"scatter3d\":[{\"type\":\"scatter3d\",\"line\":{\"colorbar\":{\"outlinewidth\":0,\"ticks\":\"\"}},\"marker\":{\"colorbar\":{\"outlinewidth\":0,\"ticks\":\"\"}}}],\"scattermapbox\":[{\"type\":\"scattermapbox\",\"marker\":{\"colorbar\":{\"outlinewidth\":0,\"ticks\":\"\"}}}],\"scatterternary\":[{\"type\":\"scatterternary\",\"marker\":{\"colorbar\":{\"outlinewidth\":0,\"ticks\":\"\"}}}],\"scattercarpet\":[{\"type\":\"scattercarpet\",\"marker\":{\"colorbar\":{\"outlinewidth\":0,\"ticks\":\"\"}}}],\"carpet\":[{\"aaxis\":{\"endlinecolor\":\"#2a3f5f\",\"gridcolor\":\"white\",\"linecolor\":\"white\",\"minorgridcolor\":\"white\",\"startlinecolor\":\"#2a3f5f\"},\"baxis\":{\"endlinecolor\":\"#2a3f5f\",\"gridcolor\":\"white\",\"linecolor\":\"white\",\"minorgridcolor\":\"white\",\"startlinecolor\":\"#2a3f5f\"},\"type\":\"carpet\"}],\"table\":[{\"cells\":{\"fill\":{\"color\":\"#EBF0F8\"},\"line\":{\"color\":\"white\"}},\"header\":{\"fill\":{\"color\":\"#C8D4E3\"},\"line\":{\"color\":\"white\"}},\"type\":\"table\"}],\"barpolar\":[{\"marker\":{\"line\":{\"color\":\"#E5ECF6\",\"width\":0.5},\"pattern\":{\"fillmode\":\"overlay\",\"size\":10,\"solidity\":0.2}},\"type\":\"barpolar\"}],\"pie\":[{\"automargin\":true,\"type\":\"pie\"}]},\"layout\":{\"autotypenumbers\":\"strict\",\"colorway\":[\"#636efa\",\"#EF553B\",\"#00cc96\",\"#ab63fa\",\"#FFA15A\",\"#19d3f3\",\"#FF6692\",\"#B6E880\",\"#FF97FF\",\"#FECB52\"],\"font\":{\"color\":\"#2a3f5f\"},\"hovermode\":\"closest\",\"hoverlabel\":{\"align\":\"left\"},\"paper_bgcolor\":\"white\",\"plot_bgcolor\":\"#E5ECF6\",\"polar\":{\"bgcolor\":\"#E5ECF6\",\"angularaxis\":{\"gridcolor\":\"white\",\"linecolor\":\"white\",\"ticks\":\"\"},\"radialaxis\":{\"gridcolor\":\"white\",\"linecolor\":\"white\",\"ticks\":\"\"}},\"ternary\":{\"bgcolor\":\"#E5ECF6\",\"aaxis\":{\"gridcolor\":\"white\",\"linecolor\":\"white\",\"ticks\":\"\"},\"baxis\":{\"gridcolor\":\"white\",\"linecolor\":\"white\",\"ticks\":\"\"},\"caxis\":{\"gridcolor\":\"white\",\"linecolor\":\"white\",\"ticks\":\"\"}},\"coloraxis\":{\"colorbar\":{\"outlinewidth\":0,\"ticks\":\"\"}},\"colorscale\":{\"sequential\":[[0.0,\"#0d0887\"],[0.1111111111111111,\"#46039f\"],[0.2222222222222222,\"#7201a8\"],[0.3333333333333333,\"#9c179e\"],[0.4444444444444444,\"#bd3786\"],[0.5555555555555556,\"#d8576b\"],[0.6666666666666666,\"#ed7953\"],[0.7777777777777778,\"#fb9f3a\"],[0.8888888888888888,\"#fdca26\"],[1.0,\"#f0f921\"]],\"sequentialminus\":[[0.0,\"#0d0887\"],[0.1111111111111111,\"#46039f\"],[0.2222222222222222,\"#7201a8\"],[0.3333333333333333,\"#9c179e\"],[0.4444444444444444,\"#bd3786\"],[0.5555555555555556,\"#d8576b\"],[0.6666666666666666,\"#ed7953\"],[0.7777777777777778,\"#fb9f3a\"],[0.8888888888888888,\"#fdca26\"],[1.0,\"#f0f921\"]],\"diverging\":[[0,\"#8e0152\"],[0.1,\"#c51b7d\"],[0.2,\"#de77ae\"],[0.3,\"#f1b6da\"],[0.4,\"#fde0ef\"],[0.5,\"#f7f7f7\"],[0.6,\"#e6f5d0\"],[0.7,\"#b8e186\"],[0.8,\"#7fbc41\"],[0.9,\"#4d9221\"],[1,\"#276419\"]]},\"xaxis\":{\"gridcolor\":\"white\",\"linecolor\":\"white\",\"ticks\":\"\",\"title\":{\"standoff\":15},\"zerolinecolor\":\"white\",\"automargin\":true,\"zerolinewidth\":2},\"yaxis\":{\"gridcolor\":\"white\",\"linecolor\":\"white\",\"ticks\":\"\",\"title\":{\"standoff\":15},\"zerolinecolor\":\"white\",\"automargin\":true,\"zerolinewidth\":2},\"scene\":{\"xaxis\":{\"backgroundcolor\":\"#E5ECF6\",\"gridcolor\":\"white\",\"linecolor\":\"white\",\"showbackground\":true,\"ticks\":\"\",\"zerolinecolor\":\"white\",\"gridwidth\":2},\"yaxis\":{\"backgroundcolor\":\"#E5ECF6\",\"gridcolor\":\"white\",\"linecolor\":\"white\",\"showbackground\":true,\"ticks\":\"\",\"zerolinecolor\":\"white\",\"gridwidth\":2},\"zaxis\":{\"backgroundcolor\":\"#E5ECF6\",\"gridcolor\":\"white\",\"linecolor\":\"white\",\"showbackground\":true,\"ticks\":\"\",\"zerolinecolor\":\"white\",\"gridwidth\":2}},\"shapedefaults\":{\"line\":{\"color\":\"#2a3f5f\"}},\"annotationdefaults\":{\"arrowcolor\":\"#2a3f5f\",\"arrowhead\":0,\"arrowwidth\":1},\"geo\":{\"bgcolor\":\"white\",\"landcolor\":\"#E5ECF6\",\"subunitcolor\":\"white\",\"showland\":true,\"showlakes\":true,\"lakecolor\":\"white\"},\"title\":{\"x\":0.05},\"mapbox\":{\"style\":\"light\"}}},\"xaxis\":{\"anchor\":\"y\",\"domain\":[0.0,1.0],\"title\":{\"text\":\"repayment_month\"}},\"yaxis\":{\"anchor\":\"x\",\"domain\":[0.0,1.0],\"title\":{\"text\":\"Profit\"}},\"legend\":{\"tracegroupgap\":0},\"title\":{\"text\":\"Monthly Profit Trend\"}},                        {\"responsive\": true}                    ).then(function(){\n",
              "                            \n",
              "var gd = document.getElementById('80086b87-d5d2-467b-9eea-19162998d2be');\n",
              "var x = new MutationObserver(function (mutations, observer) {{\n",
              "        var display = window.getComputedStyle(gd).display;\n",
              "        if (!display || display === 'none') {{\n",
              "            console.log([gd, 'removed!']);\n",
              "            Plotly.purge(gd);\n",
              "            observer.disconnect();\n",
              "        }}\n",
              "}});\n",
              "\n",
              "// Listen for the removal of the full notebook cells\n",
              "var notebookContainer = gd.closest('#notebook-container');\n",
              "if (notebookContainer) {{\n",
              "    x.observe(notebookContainer, {childList: true});\n",
              "}}\n",
              "\n",
              "// Listen for the clearing of the current output cell\n",
              "var outputEl = gd.closest('.output');\n",
              "if (outputEl) {{\n",
              "    x.observe(outputEl, {childList: true});\n",
              "}}\n",
              "\n",
              "                        })                };                            </script>        </div>\n",
              "</body>\n",
              "</html>"
            ]
          },
          "metadata": {}
        }
      ]
    },
    {
      "cell_type": "markdown",
      "source": [
        "- Overall Trend: While there's an overall upward trend from April to June and a huge spike in August, the volatility with the July drop raises concerns about the consistency and predictability of profit.\n",
        "- However, the drop in July and the spike in August is attributed to the methodology used in profit calculation\n",
        "   -  The difference in value of monthly repayments to the loans disbursed in july is minimal, resulting in lower profit.\n",
        "   -  In August, the difference is significantly larger, despite the low volume of transactions. This creates the appearance of a sharp profit increase"
      ],
      "metadata": {
        "id": "OS5Ag3FzVPIl"
      }
    },
    {
      "cell_type": "code",
      "source": [],
      "metadata": {
        "id": "CJs83u0WAcr9"
      },
      "execution_count": null,
      "outputs": []
    },
    {
      "cell_type": "markdown",
      "source": [
        "### Forecasting 3-Month Profit/Loss\n",
        "We use Exponential Smoothing Average in Python"
      ],
      "metadata": {
        "id": "on9fhEv5w1RZ"
      }
    },
    {
      "cell_type": "code",
      "source": [
        "import pandas as pd\n",
        "import numpy as np\n",
        "import matplotlib.pyplot as plt\n",
        "import warnings\n",
        "warnings.filterwarnings(\"ignore\")\n",
        "from statsmodels.tsa.holtwinters import ExponentialSmoothing\n",
        "\n",
        "\n"
      ],
      "metadata": {
        "id": "vJPGDR8Cw57s"
      },
      "execution_count": null,
      "outputs": []
    },
    {
      "cell_type": "code",
      "source": [
        "# Load data\n",
        "profit_df = profit_df.toPandas()\n",
        "profit_df[\"repayment_month\"] = pd.to_datetime(profit_df[\"repayment_month\"])\n"
      ],
      "metadata": {
        "id": "_UJRxB0HyAN9"
      },
      "execution_count": 80,
      "outputs": []
    },
    {
      "cell_type": "code",
      "source": [
        "# Fit model\n",
        "# The data spans eight months, which means we change the seasonal_periods to a value less than half of the data length\n",
        "model = ExponentialSmoothing(profit_df['Profit'], trend='add', seasonal='add', seasonal_periods=3)\n",
        "fit = model.fit()\n",
        "# Not enough data for better forecast"
      ],
      "metadata": {
        "colab": {
          "base_uri": "https://localhost:8080/"
        },
        "id": "yCY-l2Jqy9Q1",
        "outputId": "0aa00a97-373c-4749-bc22-2dc81274aafe"
      },
      "execution_count": null,
      "outputs": [
        {
          "output_type": "stream",
          "name": "stderr",
          "text": [
            "/usr/local/lib/python3.11/dist-packages/statsmodels/tsa/holtwinters/model.py:918: ConvergenceWarning: Optimization failed to converge. Check mle_retvals.\n",
            "  warnings.warn(\n"
          ]
        }
      ]
    },
    {
      "cell_type": "code",
      "source": [
        "# Forecast next 3 months\n",
        "# forecast = fit.forecast(steps=3)\n",
        "# print(forecast)"
      ],
      "metadata": {
        "id": "riS93oOT0Yv1"
      },
      "execution_count": null,
      "outputs": []
    },
    {
      "cell_type": "markdown",
      "source": [
        "### Credit Exposure (ECL Method)\n",
        "Expected Loss = PD * LGD * EAD\n",
        "\n",
        "PD = Probability of default\n",
        "\n",
        "LGD = Loss Given Default (Percentage of outstanding loan amount that will be lost if a borrower defaults)\n",
        "\n",
        "EAD = Exposure at Default (The total amount a borrower owes at the time of default)"
      ],
      "metadata": {
        "id": "RLc-k9jS2tcf"
      }
    },
    {
      "cell_type": "code",
      "source": [
        "spark.sql(\"\"\"WITH loan_info AS (\n",
        "    SELECT\n",
        "        d.customer_id,\n",
        "        d.disb_date,\n",
        "        d.tenure,\n",
        "        d.loan_amount,\n",
        "        d.loan_fee,\n",
        "        DATE_ADD(d.disb_date, CAST(d.tenure AS INT)) AS due_date  -- Cast tenure to INT\n",
        "    FROM disbursements d\n",
        "),\n",
        "repayment_info AS (\n",
        "    SELECT\n",
        "        r.customer_id,\n",
        "        DATE_FORMAT(MAX(r.date_time), 'yyyy-MM-dd') AS repayment_date,\n",
        "        SUM(r.amount) AS total_repaid\n",
        "    FROM repayments r\n",
        "    GROUP BY r.customer_id\n",
        "),\n",
        "loan_status AS (\n",
        "    SELECT\n",
        "        l.customer_id,\n",
        "        l.disb_date,\n",
        "        l.due_date,\n",
        "        r.repayment_date,\n",
        "        r.total_repaid,\n",
        "        l.loan_amount,\n",
        "        l.loan_fee,\n",
        "        CASE\n",
        "            WHEN r.total_repaid < l.loan_amount THEN 'Defaulted'\n",
        "            ELSE 'Repaid on Time'\n",
        "        END AS repayment_status\n",
        "    FROM loan_info l\n",
        "    LEFT JOIN repayment_info r ON l.customer_id = r.customer_id\n",
        "),\n",
        "default_rate AS (\n",
        "    SELECT\n",
        "        COUNT(CASE WHEN repayment_status = 'Defaulted' THEN 1 END) * 1.0 / COUNT(*) AS PD\n",
        "    FROM loan_status\n",
        "),\n",
        "loan_exposure AS (\n",
        "    SELECT\n",
        "        SUM(CASE WHEN repayment_status = 'Defaulted' THEN loan_amount END) AS total_defaulted,\n",
        "        SUM(loan_amount) AS total_outstanding\n",
        "    FROM loan_status\n",
        "),\n",
        "expected_loss AS (\n",
        "    SELECT\n",
        "        dr.PD,\n",
        "        le.total_outstanding * 0.40 AS LGD,  -- 40% LGD\n",
        "        le.total_outstanding AS EAD,\n",
        "        (dr.PD * 0.40 * le.total_outstanding) AS expected_loss  -- Fixed calculation\n",
        "    FROM default_rate dr, loan_exposure le\n",
        ")\n",
        "SELECT * FROM expected_loss\n",
        "          \"\"\").show()\n"
      ],
      "metadata": {
        "colab": {
          "base_uri": "https://localhost:8080/"
        },
        "id": "FsG5v3Xl2rJC",
        "outputId": "87c60837-c123-4179-f58b-7cc323b3e8d6"
      },
      "execution_count": 81,
      "outputs": [
        {
          "output_type": "stream",
          "name": "stdout",
          "text": [
            "+------------------+-----------+--------+-------------+\n",
            "|                PD|        LGD|     EAD|expected_loss|\n",
            "+------------------+-----------+--------+-------------+\n",
            "|0.0012137303242936|10594254.00|26485635| 12858.567343|\n",
            "+------------------+-----------+--------+-------------+\n",
            "\n"
          ]
        }
      ]
    },
    {
      "cell_type": "markdown",
      "source": [
        "- Changed the code such that loans are only marked as defaulted if not fully repaid\n",
        "    - Late repayments (but not fully repaid loans) are not falsely classified as defaults\n",
        "- This is because some borrowers may have repaid late but still fully repaid\n",
        "\n",
        "PD 0.12% of loans are defaulting, which is very low.\n",
        "\n",
        "LGD 40% of total outstanding loans\tStill correct, assuming 40% loss given default.\n",
        "\n",
        "EAD Total outstanding loans\tMakes sense, showing loans yet to be repaid.\n",
        "\n",
        "Expected Loss PD × LGD × EAD\tVery small loss amount, since PD is so low.\n"
      ],
      "metadata": {
        "id": "tk6Nxjim8EpC"
      }
    },
    {
      "cell_type": "code",
      "source": [],
      "metadata": {
        "id": "ivOc1EbJ8j_5"
      },
      "execution_count": null,
      "outputs": []
    },
    {
      "cell_type": "markdown",
      "source": [
        "### Provisioning & write-off threshold\n",
        "- Provisioning: Set aside reserves based on credit exposure\n",
        "- Write-Offs: Consider a threshold where loans unpaid for > 90 days are written off"
      ],
      "metadata": {
        "id": "0IKhNYWb_o8F"
      }
    },
    {
      "cell_type": "code",
      "source": [
        "loan_status_df = spark.sql(\"\"\"WITH loan_info AS (\n",
        "    SELECT\n",
        "        d.customer_id,\n",
        "        d.disb_date,\n",
        "        d.tenure,\n",
        "        d.loan_amount,\n",
        "        d.loan_fee,\n",
        "        date_add(d.disb_date, cast(d.tenure as int)) AS due_date\n",
        "    FROM disbursements d\n",
        "),\n",
        "repayment_info AS (\n",
        "    SELECT\n",
        "        r.customer_id,\n",
        "        DATE_FORMAT(MAX(r.date_time), 'yyyy-MM-dd') AS repayment_date,\n",
        "        SUM(r.amount) AS total_repaid\n",
        "    FROM repayments r\n",
        "    GROUP BY r.customer_id\n",
        "),\n",
        "loan_status AS (\n",
        "    SELECT\n",
        "        l.customer_id,\n",
        "        l.disb_date,\n",
        "        l.due_date,\n",
        "        r.repayment_date,\n",
        "        r.total_repaid,\n",
        "        l.loan_amount,\n",
        "        l.loan_fee,\n",
        "        CASE\n",
        "            WHEN r.total_repaid IS NULL OR r.total_repaid < l.loan_amount THEN 'Defaulted'\n",
        "            ELSE 'Repaid on Time'\n",
        "        END AS repayment_status\n",
        "    FROM loan_info l\n",
        "    LEFT JOIN repayment_info r ON l.customer_id = r.customer_id\n",
        ")\n",
        "SELECT\n",
        "    customer_id,\n",
        "    loan_amount,\n",
        "    repayment_status,\n",
        "    CASE\n",
        "        WHEN repayment_status = 'Repaid on Time' THEN 'Active Loan'\n",
        "        WHEN DATEDIFF(CURRENT_DATE(), due_date) > 90 THEN 'Written Off'\n",
        "        ELSE 'Provision'\n",
        "    END AS loan_status\n",
        "FROM loan_status\"\"\").show()\n"
      ],
      "metadata": {
        "colab": {
          "base_uri": "https://localhost:8080/"
        },
        "id": "it7564kY_4KC",
        "outputId": "6ac7aa5a-994f-4cb6-f246-989d684061f5"
      },
      "execution_count": null,
      "outputs": [
        {
          "output_type": "stream",
          "name": "stdout",
          "text": [
            "+--------------------+-----------+----------------+-----------+\n",
            "|         customer_id|loan_amount|repayment_status|loan_status|\n",
            "+--------------------+-----------+----------------+-----------+\n",
            "|844cce1d162dfaa5c...|        280|  Repaid on Time|Active Loan|\n",
            "|30e629a2abbf54ef9...|       2170|  Repaid on Time|Active Loan|\n",
            "|3aa2f0ab5e7ccbc96...|         80|  Repaid on Time|Active Loan|\n",
            "|f1ae3d508d8561ee0...|        500|  Repaid on Time|Active Loan|\n",
            "|a7a31b7eb5b810d9e...|       1030|  Repaid on Time|Active Loan|\n",
            "|844cce1d162dfaa5c...|        280|  Repaid on Time|Active Loan|\n",
            "|9ef50309636e19ae5...|         70|  Repaid on Time|Active Loan|\n",
            "|30e629a2abbf54ef9...|       2170|  Repaid on Time|Active Loan|\n",
            "|84489157091fedf5d...|         70|  Repaid on Time|Active Loan|\n",
            "|844cce1d162dfaa5c...|        280|  Repaid on Time|Active Loan|\n",
            "|f1ae3d508d8561ee0...|        500|  Repaid on Time|Active Loan|\n",
            "|30e629a2abbf54ef9...|       2170|  Repaid on Time|Active Loan|\n",
            "|203fc81288b614a7a...|       1010|  Repaid on Time|Active Loan|\n",
            "|8dcd06057752d16e6...|       2000|  Repaid on Time|Active Loan|\n",
            "|9ef50309636e19ae5...|         70|  Repaid on Time|Active Loan|\n",
            "|30e629a2abbf54ef9...|       2170|  Repaid on Time|Active Loan|\n",
            "|844cce1d162dfaa5c...|        280|  Repaid on Time|Active Loan|\n",
            "|84489157091fedf5d...|        160|  Repaid on Time|Active Loan|\n",
            "|30e629a2abbf54ef9...|       2820|  Repaid on Time|Active Loan|\n",
            "|f77a0cba04efeac98...|         70|  Repaid on Time|Active Loan|\n",
            "+--------------------+-----------+----------------+-----------+\n",
            "only showing top 20 rows\n",
            "\n"
          ]
        }
      ]
    },
    {
      "cell_type": "markdown",
      "source": [
        " - Only defaulted loans older than 90 days will be \"Written Off\"\n",
        " - Loans repaid on time will be \"Active Loans\"\n"
      ],
      "metadata": {
        "id": "33HGRho-E-Xi"
      }
    },
    {
      "cell_type": "code",
      "source": [
        "spark.sql(\"\"\"SELECT COUNT(*) FROM loan_status WHERE loan_status = 'Active Loan' \"\"\").show()"
      ],
      "metadata": {
        "colab": {
          "base_uri": "https://localhost:8080/"
        },
        "id": "C9uci9ZTqpvV",
        "outputId": "3d3c774f-a3b4-4634-c161-d79a9bfab0fb"
      },
      "execution_count": null,
      "outputs": [
        {
          "output_type": "stream",
          "name": "stdout",
          "text": [
            "+--------+\n",
            "|count(1)|\n",
            "+--------+\n",
            "|   26332|\n",
            "+--------+\n",
            "\n"
          ]
        }
      ]
    },
    {
      "cell_type": "code",
      "source": [
        "spark.sql(\"\"\"SELECT COUNT(*) FROM loan_status WHERE loan_status = 'Written Off' \"\"\").show()"
      ],
      "metadata": {
        "colab": {
          "base_uri": "https://localhost:8080/"
        },
        "id": "QwiSFlaOrZAS",
        "outputId": "1aa18060-d48b-4fc7-9f7b-ff42a7cb11e6"
      },
      "execution_count": null,
      "outputs": [
        {
          "output_type": "stream",
          "name": "stdout",
          "text": [
            "+--------+\n",
            "|count(1)|\n",
            "+--------+\n",
            "|      33|\n",
            "+--------+\n",
            "\n"
          ]
        }
      ]
    },
    {
      "cell_type": "code",
      "source": [
        "# Pie chart on active and incative loans\n",
        "loan_status_df = spark.sql(\"\"\"WITH loan_info AS (\n",
        "    SELECT\n",
        "        d.customer_id,\n",
        "        d.disb_date,\n",
        "        d.tenure,\n",
        "        d.loan_amount,\n",
        "        d.loan_fee,\n",
        "        date_add(d.disb_date, cast(d.tenure as int)) AS due_date\n",
        "    FROM disbursements d\n",
        "),\n",
        "repayment_info AS (\n",
        "    SELECT\n",
        "        r.customer_id,\n",
        "        DATE_FORMAT(MAX(r.date_time), 'yyyy-MM-dd') AS repayment_date,\n",
        "        SUM(r.amount) AS total_repaid\n",
        "    FROM repayments r\n",
        "    GROUP BY r.customer_id\n",
        "),\n",
        "loan_status AS (\n",
        "    SELECT\n",
        "        l.customer_id,\n",
        "        l.disb_date,\n",
        "        l.due_date,\n",
        "        r.repayment_date,\n",
        "        r.total_repaid,\n",
        "        l.loan_amount,\n",
        "        l.loan_fee,\n",
        "        CASE\n",
        "            WHEN r.total_repaid IS NULL OR r.total_repaid < l.loan_amount THEN 'Defaulted'\n",
        "            ELSE 'Repaid on Time'\n",
        "        END AS repayment_status\n",
        "    FROM loan_info l\n",
        "    LEFT JOIN repayment_info r ON l.customer_id = r.customer_id\n",
        ")\n",
        "SELECT\n",
        "    customer_id,\n",
        "    loan_amount,\n",
        "    repayment_status,\n",
        "    CASE\n",
        "        WHEN repayment_status = 'Repaid on Time' THEN 'Active Loan'\n",
        "        WHEN DATEDIFF(CURRENT_DATE(), due_date) > 90 THEN 'Written Off'\n",
        "        ELSE 'Provision'\n",
        "    END AS loan_status\n",
        "FROM loan_status\"\"\")\n",
        "\n",
        "\n",
        "loan_status_counts = loan_status_df.groupBy('loan_status').count().toPandas()\n",
        "\n",
        "fig = px.pie(loan_status_counts, values='count', names='loan_status', title='Loan Status Distribution')\n",
        "fig.show()"
      ],
      "metadata": {
        "id": "_zegEr9VFJ5Z",
        "colab": {
          "base_uri": "https://localhost:8080/",
          "height": 542
        },
        "outputId": "bc8cbeeb-d7e1-4d66-c638-b86749b9e2a4"
      },
      "execution_count": 96,
      "outputs": [
        {
          "output_type": "display_data",
          "data": {
            "text/html": [
              "<html>\n",
              "<head><meta charset=\"utf-8\" /></head>\n",
              "<body>\n",
              "    <div>            <script src=\"https://cdnjs.cloudflare.com/ajax/libs/mathjax/2.7.5/MathJax.js?config=TeX-AMS-MML_SVG\"></script><script type=\"text/javascript\">if (window.MathJax && window.MathJax.Hub && window.MathJax.Hub.Config) {window.MathJax.Hub.Config({SVG: {font: \"STIX-Web\"}});}</script>                <script type=\"text/javascript\">window.PlotlyConfig = {MathJaxConfig: 'local'};</script>\n",
              "        <script charset=\"utf-8\" src=\"https://cdn.plot.ly/plotly-2.35.2.min.js\"></script>                <div id=\"fd1b2e61-a15b-4a7d-b608-4e21e66cd198\" class=\"plotly-graph-div\" style=\"height:525px; width:100%;\"></div>            <script type=\"text/javascript\">                                    window.PLOTLYENV=window.PLOTLYENV || {};                                    if (document.getElementById(\"fd1b2e61-a15b-4a7d-b608-4e21e66cd198\")) {                    Plotly.newPlot(                        \"fd1b2e61-a15b-4a7d-b608-4e21e66cd198\",                        [{\"domain\":{\"x\":[0.0,1.0],\"y\":[0.0,1.0]},\"hovertemplate\":\"loan_status=%{label}\\u003cbr\\u003ecount=%{value}\\u003cextra\\u003e\\u003c\\u002fextra\\u003e\",\"labels\":[\"Written Off\",\"Active Loan\"],\"legendgroup\":\"\",\"name\":\"\",\"showlegend\":true,\"values\":[33,26332],\"type\":\"pie\"}],                        {\"template\":{\"data\":{\"histogram2dcontour\":[{\"type\":\"histogram2dcontour\",\"colorbar\":{\"outlinewidth\":0,\"ticks\":\"\"},\"colorscale\":[[0.0,\"#0d0887\"],[0.1111111111111111,\"#46039f\"],[0.2222222222222222,\"#7201a8\"],[0.3333333333333333,\"#9c179e\"],[0.4444444444444444,\"#bd3786\"],[0.5555555555555556,\"#d8576b\"],[0.6666666666666666,\"#ed7953\"],[0.7777777777777778,\"#fb9f3a\"],[0.8888888888888888,\"#fdca26\"],[1.0,\"#f0f921\"]]}],\"choropleth\":[{\"type\":\"choropleth\",\"colorbar\":{\"outlinewidth\":0,\"ticks\":\"\"}}],\"histogram2d\":[{\"type\":\"histogram2d\",\"colorbar\":{\"outlinewidth\":0,\"ticks\":\"\"},\"colorscale\":[[0.0,\"#0d0887\"],[0.1111111111111111,\"#46039f\"],[0.2222222222222222,\"#7201a8\"],[0.3333333333333333,\"#9c179e\"],[0.4444444444444444,\"#bd3786\"],[0.5555555555555556,\"#d8576b\"],[0.6666666666666666,\"#ed7953\"],[0.7777777777777778,\"#fb9f3a\"],[0.8888888888888888,\"#fdca26\"],[1.0,\"#f0f921\"]]}],\"heatmap\":[{\"type\":\"heatmap\",\"colorbar\":{\"outlinewidth\":0,\"ticks\":\"\"},\"colorscale\":[[0.0,\"#0d0887\"],[0.1111111111111111,\"#46039f\"],[0.2222222222222222,\"#7201a8\"],[0.3333333333333333,\"#9c179e\"],[0.4444444444444444,\"#bd3786\"],[0.5555555555555556,\"#d8576b\"],[0.6666666666666666,\"#ed7953\"],[0.7777777777777778,\"#fb9f3a\"],[0.8888888888888888,\"#fdca26\"],[1.0,\"#f0f921\"]]}],\"heatmapgl\":[{\"type\":\"heatmapgl\",\"colorbar\":{\"outlinewidth\":0,\"ticks\":\"\"},\"colorscale\":[[0.0,\"#0d0887\"],[0.1111111111111111,\"#46039f\"],[0.2222222222222222,\"#7201a8\"],[0.3333333333333333,\"#9c179e\"],[0.4444444444444444,\"#bd3786\"],[0.5555555555555556,\"#d8576b\"],[0.6666666666666666,\"#ed7953\"],[0.7777777777777778,\"#fb9f3a\"],[0.8888888888888888,\"#fdca26\"],[1.0,\"#f0f921\"]]}],\"contourcarpet\":[{\"type\":\"contourcarpet\",\"colorbar\":{\"outlinewidth\":0,\"ticks\":\"\"}}],\"contour\":[{\"type\":\"contour\",\"colorbar\":{\"outlinewidth\":0,\"ticks\":\"\"},\"colorscale\":[[0.0,\"#0d0887\"],[0.1111111111111111,\"#46039f\"],[0.2222222222222222,\"#7201a8\"],[0.3333333333333333,\"#9c179e\"],[0.4444444444444444,\"#bd3786\"],[0.5555555555555556,\"#d8576b\"],[0.6666666666666666,\"#ed7953\"],[0.7777777777777778,\"#fb9f3a\"],[0.8888888888888888,\"#fdca26\"],[1.0,\"#f0f921\"]]}],\"surface\":[{\"type\":\"surface\",\"colorbar\":{\"outlinewidth\":0,\"ticks\":\"\"},\"colorscale\":[[0.0,\"#0d0887\"],[0.1111111111111111,\"#46039f\"],[0.2222222222222222,\"#7201a8\"],[0.3333333333333333,\"#9c179e\"],[0.4444444444444444,\"#bd3786\"],[0.5555555555555556,\"#d8576b\"],[0.6666666666666666,\"#ed7953\"],[0.7777777777777778,\"#fb9f3a\"],[0.8888888888888888,\"#fdca26\"],[1.0,\"#f0f921\"]]}],\"mesh3d\":[{\"type\":\"mesh3d\",\"colorbar\":{\"outlinewidth\":0,\"ticks\":\"\"}}],\"scatter\":[{\"fillpattern\":{\"fillmode\":\"overlay\",\"size\":10,\"solidity\":0.2},\"type\":\"scatter\"}],\"parcoords\":[{\"type\":\"parcoords\",\"line\":{\"colorbar\":{\"outlinewidth\":0,\"ticks\":\"\"}}}],\"scatterpolargl\":[{\"type\":\"scatterpolargl\",\"marker\":{\"colorbar\":{\"outlinewidth\":0,\"ticks\":\"\"}}}],\"bar\":[{\"error_x\":{\"color\":\"#2a3f5f\"},\"error_y\":{\"color\":\"#2a3f5f\"},\"marker\":{\"line\":{\"color\":\"#E5ECF6\",\"width\":0.5},\"pattern\":{\"fillmode\":\"overlay\",\"size\":10,\"solidity\":0.2}},\"type\":\"bar\"}],\"scattergeo\":[{\"type\":\"scattergeo\",\"marker\":{\"colorbar\":{\"outlinewidth\":0,\"ticks\":\"\"}}}],\"scatterpolar\":[{\"type\":\"scatterpolar\",\"marker\":{\"colorbar\":{\"outlinewidth\":0,\"ticks\":\"\"}}}],\"histogram\":[{\"marker\":{\"pattern\":{\"fillmode\":\"overlay\",\"size\":10,\"solidity\":0.2}},\"type\":\"histogram\"}],\"scattergl\":[{\"type\":\"scattergl\",\"marker\":{\"colorbar\":{\"outlinewidth\":0,\"ticks\":\"\"}}}],\"scatter3d\":[{\"type\":\"scatter3d\",\"line\":{\"colorbar\":{\"outlinewidth\":0,\"ticks\":\"\"}},\"marker\":{\"colorbar\":{\"outlinewidth\":0,\"ticks\":\"\"}}}],\"scattermapbox\":[{\"type\":\"scattermapbox\",\"marker\":{\"colorbar\":{\"outlinewidth\":0,\"ticks\":\"\"}}}],\"scatterternary\":[{\"type\":\"scatterternary\",\"marker\":{\"colorbar\":{\"outlinewidth\":0,\"ticks\":\"\"}}}],\"scattercarpet\":[{\"type\":\"scattercarpet\",\"marker\":{\"colorbar\":{\"outlinewidth\":0,\"ticks\":\"\"}}}],\"carpet\":[{\"aaxis\":{\"endlinecolor\":\"#2a3f5f\",\"gridcolor\":\"white\",\"linecolor\":\"white\",\"minorgridcolor\":\"white\",\"startlinecolor\":\"#2a3f5f\"},\"baxis\":{\"endlinecolor\":\"#2a3f5f\",\"gridcolor\":\"white\",\"linecolor\":\"white\",\"minorgridcolor\":\"white\",\"startlinecolor\":\"#2a3f5f\"},\"type\":\"carpet\"}],\"table\":[{\"cells\":{\"fill\":{\"color\":\"#EBF0F8\"},\"line\":{\"color\":\"white\"}},\"header\":{\"fill\":{\"color\":\"#C8D4E3\"},\"line\":{\"color\":\"white\"}},\"type\":\"table\"}],\"barpolar\":[{\"marker\":{\"line\":{\"color\":\"#E5ECF6\",\"width\":0.5},\"pattern\":{\"fillmode\":\"overlay\",\"size\":10,\"solidity\":0.2}},\"type\":\"barpolar\"}],\"pie\":[{\"automargin\":true,\"type\":\"pie\"}]},\"layout\":{\"autotypenumbers\":\"strict\",\"colorway\":[\"#636efa\",\"#EF553B\",\"#00cc96\",\"#ab63fa\",\"#FFA15A\",\"#19d3f3\",\"#FF6692\",\"#B6E880\",\"#FF97FF\",\"#FECB52\"],\"font\":{\"color\":\"#2a3f5f\"},\"hovermode\":\"closest\",\"hoverlabel\":{\"align\":\"left\"},\"paper_bgcolor\":\"white\",\"plot_bgcolor\":\"#E5ECF6\",\"polar\":{\"bgcolor\":\"#E5ECF6\",\"angularaxis\":{\"gridcolor\":\"white\",\"linecolor\":\"white\",\"ticks\":\"\"},\"radialaxis\":{\"gridcolor\":\"white\",\"linecolor\":\"white\",\"ticks\":\"\"}},\"ternary\":{\"bgcolor\":\"#E5ECF6\",\"aaxis\":{\"gridcolor\":\"white\",\"linecolor\":\"white\",\"ticks\":\"\"},\"baxis\":{\"gridcolor\":\"white\",\"linecolor\":\"white\",\"ticks\":\"\"},\"caxis\":{\"gridcolor\":\"white\",\"linecolor\":\"white\",\"ticks\":\"\"}},\"coloraxis\":{\"colorbar\":{\"outlinewidth\":0,\"ticks\":\"\"}},\"colorscale\":{\"sequential\":[[0.0,\"#0d0887\"],[0.1111111111111111,\"#46039f\"],[0.2222222222222222,\"#7201a8\"],[0.3333333333333333,\"#9c179e\"],[0.4444444444444444,\"#bd3786\"],[0.5555555555555556,\"#d8576b\"],[0.6666666666666666,\"#ed7953\"],[0.7777777777777778,\"#fb9f3a\"],[0.8888888888888888,\"#fdca26\"],[1.0,\"#f0f921\"]],\"sequentialminus\":[[0.0,\"#0d0887\"],[0.1111111111111111,\"#46039f\"],[0.2222222222222222,\"#7201a8\"],[0.3333333333333333,\"#9c179e\"],[0.4444444444444444,\"#bd3786\"],[0.5555555555555556,\"#d8576b\"],[0.6666666666666666,\"#ed7953\"],[0.7777777777777778,\"#fb9f3a\"],[0.8888888888888888,\"#fdca26\"],[1.0,\"#f0f921\"]],\"diverging\":[[0,\"#8e0152\"],[0.1,\"#c51b7d\"],[0.2,\"#de77ae\"],[0.3,\"#f1b6da\"],[0.4,\"#fde0ef\"],[0.5,\"#f7f7f7\"],[0.6,\"#e6f5d0\"],[0.7,\"#b8e186\"],[0.8,\"#7fbc41\"],[0.9,\"#4d9221\"],[1,\"#276419\"]]},\"xaxis\":{\"gridcolor\":\"white\",\"linecolor\":\"white\",\"ticks\":\"\",\"title\":{\"standoff\":15},\"zerolinecolor\":\"white\",\"automargin\":true,\"zerolinewidth\":2},\"yaxis\":{\"gridcolor\":\"white\",\"linecolor\":\"white\",\"ticks\":\"\",\"title\":{\"standoff\":15},\"zerolinecolor\":\"white\",\"automargin\":true,\"zerolinewidth\":2},\"scene\":{\"xaxis\":{\"backgroundcolor\":\"#E5ECF6\",\"gridcolor\":\"white\",\"linecolor\":\"white\",\"showbackground\":true,\"ticks\":\"\",\"zerolinecolor\":\"white\",\"gridwidth\":2},\"yaxis\":{\"backgroundcolor\":\"#E5ECF6\",\"gridcolor\":\"white\",\"linecolor\":\"white\",\"showbackground\":true,\"ticks\":\"\",\"zerolinecolor\":\"white\",\"gridwidth\":2},\"zaxis\":{\"backgroundcolor\":\"#E5ECF6\",\"gridcolor\":\"white\",\"linecolor\":\"white\",\"showbackground\":true,\"ticks\":\"\",\"zerolinecolor\":\"white\",\"gridwidth\":2}},\"shapedefaults\":{\"line\":{\"color\":\"#2a3f5f\"}},\"annotationdefaults\":{\"arrowcolor\":\"#2a3f5f\",\"arrowhead\":0,\"arrowwidth\":1},\"geo\":{\"bgcolor\":\"white\",\"landcolor\":\"#E5ECF6\",\"subunitcolor\":\"white\",\"showland\":true,\"showlakes\":true,\"lakecolor\":\"white\"},\"title\":{\"x\":0.05},\"mapbox\":{\"style\":\"light\"}}},\"legend\":{\"tracegroupgap\":0},\"title\":{\"text\":\"Loan Status Distribution\"}},                        {\"responsive\": true}                    ).then(function(){\n",
              "                            \n",
              "var gd = document.getElementById('fd1b2e61-a15b-4a7d-b608-4e21e66cd198');\n",
              "var x = new MutationObserver(function (mutations, observer) {{\n",
              "        var display = window.getComputedStyle(gd).display;\n",
              "        if (!display || display === 'none') {{\n",
              "            console.log([gd, 'removed!']);\n",
              "            Plotly.purge(gd);\n",
              "            observer.disconnect();\n",
              "        }}\n",
              "}});\n",
              "\n",
              "// Listen for the removal of the full notebook cells\n",
              "var notebookContainer = gd.closest('#notebook-container');\n",
              "if (notebookContainer) {{\n",
              "    x.observe(notebookContainer, {childList: true});\n",
              "}}\n",
              "\n",
              "// Listen for the clearing of the current output cell\n",
              "var outputEl = gd.closest('.output');\n",
              "if (outputEl) {{\n",
              "    x.observe(outputEl, {childList: true});\n",
              "}}\n",
              "\n",
              "                        })                };                            </script>        </div>\n",
              "</body>\n",
              "</html>"
            ]
          },
          "metadata": {}
        }
      ]
    },
    {
      "cell_type": "markdown",
      "source": [
        "- Very low number of defaulted loans"
      ],
      "metadata": {
        "id": "xppkiqAXXauF"
      }
    },
    {
      "cell_type": "markdown",
      "source": [
        "### Portfolio Triggers & Alerts Suggestions\n",
        "\n",
        "- High Default Rate Alert : If PD > 5%, trigger a risk review.\n",
        "- Late Payment Alert : If a loan is unpaid 10 days past due, notify collections.\n",
        "- Liquidity Risk Alert : If monthly profit turns negative for 3 consecutive months, initiate financial review."
      ],
      "metadata": {
        "id": "6Kcy8ERrFSFJ"
      }
    }
  ]
}